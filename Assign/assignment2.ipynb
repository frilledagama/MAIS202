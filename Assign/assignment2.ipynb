{
  "nbformat": 4,
  "nbformat_minor": 0,
  "metadata": {
    "colab": {
      "name": "Copy of Assignment2.ipynb",
      "provenance": [],
      "collapsed_sections": [
        "1LAqa9be_3vR"
      ]
    },
    "kernelspec": {
      "name": "python3",
      "display_name": "Python 3"
    }
  },
  "cells": [
    {
      "cell_type": "markdown",
      "metadata": {
        "id": "gpWWCpEXiEda"
      },
      "source": [
        "# Assignment 2 ― Classification"
      ]
    },
    {
      "cell_type": "markdown",
      "metadata": {
        "id": "r9UW_dipiFw9"
      },
      "source": [
        "## 0. Introduction\n",
        "\n",
        "In this second assigment, we will explore another cornerstone of machine learning: supervised classification. We will be specifically classifying IMDB movie reviews by their positive (1) or negative (-1) score. To do this, we will first pre-process the raw data by cleaning and turning each review into a vector. Then, we will explore and fine-tune our use of the following learning algorithms for classification: naive Bayes classifiers, support vector machines, and random forests. \n",
        "\n",
        "* [Question 1.1](#scrollTo=m0QxxH3KngAg)\n",
        "* [Question 2.1](#scrollTo=6VWSBN37uXod)\n",
        "* [Question 2.2](#scrollTo=CuW0ahvaJtOt)\n",
        "* [Question 2.3](#scrollTo=co54Ubd5QJDN)\n",
        "* [Question 3.1](#scrollTo=fN-dse1NBQnk)\n",
        "* [Question 3.2](#scrollTo=wfCjr-JrEJya)\n",
        "* [Question 3.3](#scrollTo=l1iGVZtkE5fF)\n",
        "* [Question 4.1](#scrollTo=YKLBuWjmAKoJ)\n",
        "* [Question 5.1](#scrollTo=Myn-42J9ACsH)\n",
        "* [Question 5.2](#scrollTo=1LAqa9be_3vR)\n",
        "* [Question 6.1](#scrollTo=C144CYOeYPca) [Optional] \n",
        "* [Question 6.2](#scrollTo=rnIbpGe-Z52z) [Optional] \n",
        "* [Question 6.3](#scrollTo=W6CdJGpjcK2r) [Optional] \n",
        "\n",
        "\n",
        "\n",
        "$% latex commands for later use$\n",
        "$\\newcommand{\\R}{\\mathbb{R}}$\n",
        "$\\newcommand{\\B}{\\mathbb{B}}$\n",
        "$\\newcommand{\\argmax}{\\operatorname*{arg\\ max}}$\n",
        "$\\newcommand{\\given}{\\; \\vert \\;}$\n",
        "\n"
      ]
    },
    {
      "cell_type": "markdown",
      "metadata": {
        "id": "1GJHuG6PnQ-N"
      },
      "source": [
        "## 1. Importing Libraries and Data\n",
        "\n",
        "For this assignment, we will be using a dataset of IMDB reviews. The data consists of a csv file where the first column is a string containing a user review and the second column specifies whether the review was positve (1) o negative (-1). First, we will import any libraries that we might use.\n",
        "\n",
        "**Note:** You may use any library you would like unless specified otherwise. "
      ]
    },
    {
      "cell_type": "markdown",
      "metadata": {
        "id": "m0QxxH3KngAg"
      },
      "source": [
        "### Question 1.1 Importing Libraries\n",
        "\n",
        "Keep on adding in the section below any modules you use as you are completing the assignment."
      ]
    },
    {
      "cell_type": "code",
      "metadata": {
        "id": "81LFo0NUUIJA"
      },
      "source": [
        "import csv\n",
        "import random\n",
        "### Answer starts here ###\n",
        "import pandas as pd\n",
        "import numpy as np\n",
        "import matplotlib as plt\n",
        "import regex as re\n",
        "\n",
        "import string\n",
        "import heapq\n",
        "\n",
        "from datetime import datetime\n",
        "from collections import defaultdict\n",
        "\n",
        "from sklearn import svm, metrics\n",
        "from sklearn.ensemble import RandomForestClassifier, AdaBoostClassifier\n",
        "from sklearn.model_selection import GridSearchCV\n",
        "\n",
        "from nltk.stem import PorterStemmer \n",
        "from nltk.tokenize import word_tokenize \n",
        "### Answer ends here ###font"
      ],
      "execution_count": 1,
      "outputs": []
    },
    {
      "cell_type": "markdown",
      "metadata": {
        "id": "053rRiUAnsxQ"
      },
      "source": [
        "Let's download the dataset:"
      ]
    },
    {
      "cell_type": "code",
      "metadata": {
        "id": "p4NfIOH0UXUq",
        "outputId": "cc56ed37-2936-4c96-d2e3-b12bc9acb067",
        "colab": {
          "base_uri": "https://localhost:8080/",
          "height": 370
        }
      },
      "source": [
        "!wget https://raw.githubusercontent.com/McGillAISociety/BootcampAssignmentDatasets/master/data/assignment2/train_reviews.csv"
      ],
      "execution_count": 2,
      "outputs": [
        {
          "output_type": "stream",
          "text": [
            "--2020-10-27 02:42:41--  https://raw.githubusercontent.com/McGillAISociety/BootcampAssignmentDatasets/master/data/assignment2/train_reviews.csv\n",
            "Resolving raw.githubusercontent.com (raw.githubusercontent.com)... 151.101.0.133, 151.101.64.133, 151.101.128.133, ...\n",
            "Connecting to raw.githubusercontent.com (raw.githubusercontent.com)|151.101.0.133|:443... connected.\n",
            "HTTP request sent, awaiting response... 200 OK\n",
            "Length: 33333854 (32M) [text/plain]\n",
            "Saving to: ‘train_reviews.csv’\n",
            "\n",
            "train_reviews.csv    16%[==>                 ]   5.31M  18.5MB/s    in 0.3s    \n",
            "\n",
            "2020-10-27 02:42:41 (18.5 MB/s) - Read error at byte 5573431/33333854 (Connection reset by peer). Retrying.\n",
            "\n",
            "--2020-10-27 02:42:42--  (try: 2)  https://raw.githubusercontent.com/McGillAISociety/BootcampAssignmentDatasets/master/data/assignment2/train_reviews.csv\n",
            "Connecting to raw.githubusercontent.com (raw.githubusercontent.com)|151.101.0.133|:443... connected.\n",
            "HTTP request sent, awaiting response... 206 Partial Content\n",
            "Length: 33333854 (32M), 27760423 (26M) remaining [text/plain]\n",
            "Saving to: ‘train_reviews.csv’\n",
            "\n",
            "train_reviews.csv   100%[+++================>]  31.79M  34.3MB/s    in 0.8s    \n",
            "\n",
            "2020-10-27 02:42:43 (34.3 MB/s) - ‘train_reviews.csv’ saved [33333854/33333854]\n",
            "\n"
          ],
          "name": "stdout"
        }
      ]
    },
    {
      "cell_type": "markdown",
      "metadata": {
        "id": "Q6P_kDBXtpgw"
      },
      "source": [
        "And create a function to print a review:"
      ]
    },
    {
      "cell_type": "code",
      "metadata": {
        "id": "L-fshObCUX1-"
      },
      "source": [
        "def print_review(review, score):\n",
        "  print('--------------- Review with score of {} ---------------'.format(score))\n",
        "  print(review)\n",
        "  print('------------------------------------------------------')\n",
        "  print()"
      ],
      "execution_count": 3,
      "outputs": []
    },
    {
      "cell_type": "markdown",
      "metadata": {
        "id": "2V_U9-Iwt0IP"
      },
      "source": [
        "Let's load the data and see what the first 10 reviews look like:\n"
      ]
    },
    {
      "cell_type": "code",
      "metadata": {
        "id": "87qWNsF7U3QO",
        "outputId": "e1955548-3429-4ea4-f3f8-b3da235e142c",
        "colab": {
          "base_uri": "https://localhost:8080/",
          "height": 709
        }
      },
      "source": [
        "with open('train_reviews.csv') as csv_file:\n",
        "  csv_reader = csv.reader(csv_file)\n",
        "  colnames = next(csv_reader)  # skip column names\n",
        "  data = list(csv_reader)\n",
        "\n",
        "for review, score in random.sample(data, 10):\n",
        "  print_review(review, score)"
      ],
      "execution_count": 5,
      "outputs": [
        {
          "output_type": "stream",
          "text": [
            "--------------- Review with score of -1 ---------------\n",
            "I should say right away that I checked the spoilers box only because I'm giving this comment the amount of thought proportional to what this mess of a movie deserves, and don't want to be held responsible for some plot point incidentally slipping out.<br /><br />This comment will take the form of a tirade for the simple reason that I am still under the influence of this movie, having just watched it, and the unique effect this has renders one incapable of the sort of forethought and paragraph structure required for coherent, reasoned criticism. That is not a compliment. It isn't the narcotic effect of a truly hypnotic or thought provoking movie. The feelings it stirs up combine like some uncomfortable emotional Voltron, composed of a confusing mix of some form of rage, the vague desire to take a shower, the rudderless, sinking feeling of true betrayal one gets when they realize they have given 109 minutes of their lives into the hands of someone who would not only squander it, but do so in such a pompous, artless way. And I probably wouldn't have done anything super productive with that 109 minutes anyway! But even if I'd spent it on something trivial, like a power block of masturbation and online poker, I would have felt more fulfilled when all was said and done.<br /><br />The problems with this movie are myriad, and in better times I'd articulate exactly what they were in a semi-adult fashion. But in keeping with what this movie deserves, I think I'll most likely stick to the realm of masturbation jokes and cartoon references.<br /><br />The most irritating and terminal flaw is that while watching this movie one is keenly aware that the makers and participants think they are making a much smarter movie than they are. Demonstrating the depth of knowledge one could pick up in a one semester survey of Western art history at a community college or trade school, the art-jargon is piled on thick and from all directions, with much of it supplied by talk between our hero, the tortured detective Stan (Willem Dafoe, who I will forgive for this movie due to him being Willem Dafoe) and his accented antique dealer buddy Blair (Peter Stormare, taking a break from playing a sociopath for whom murder comes easy by playing a 2-dimensional plot device in a movie about a sociopath for whom murder comes easy). And talk they do. In fact, we are dropped into this story at a crime scene that may indicate the reemergence of a serial killer Stan thinks he killed years earlier, so all the back story is established partially through unclear flashback, but primarily through stilted conversations between Stan and his dealer, or Stan and his colleague, the unforgivably irritating Carl (Scott Speedman). And although I differentiate the character Carl (Scott Speedman) from the actor who plays him by using parentheses, I must admit that very early on in the film I despised this character so much that I actually found myself sincerely wishing harm on the actor portraying him (Scott Speedman). Not anything too fancy. Not death or paralysis, necessarily.. But maybe herpes? Or maybe a stage light could fall on him and crush his arm? This is a dangerous digression, but I'm not editing it out because I want to leave anyone reading this who's thinking about paying to see this train wreck of a movie with a clear impression of the horrible wishes and feelings it stirs in even the most peaceful man.<br /><br />Well, I'm sort of running out of steam here.. over the course of writing this the sick feelings this movie brought up in a me have subsided, my head has cleared a bit. Realizing now that I'm still investing time in something related to this piece of sh!t is startlingly similar to waking up after a night of suicidally heavy drinking next to the heaving form of a still slumbering 200 pound college girl. Your first urge is a desperate desire to flee. This is natural.\n",
            "------------------------------------------------------\n",
            "\n",
            "--------------- Review with score of -1 ---------------\n",
            "Marilyn Miller made only three films before her untimely death - the marvelous SALLY (1929), the comedy HER MAJESTY LOVE (1931) and this trifle - SUNNY (1930). It is quite poor both as an early talkie and as an attempt at a musical - although she has four dance numbers, she only sings two songs (WHO? and ONE MAN ALONE). The rest of the score including the spritely title tune are jettisoned, although we can hear the latter in the background scoring. Miller looks overweight and amateurish here - no star quality at all. Even her dancing is cloutish. The film is very badly written, stock full of stale and unfunny jokes and stupid situations. If you're interested in Miller as a performer, by all means, check it out, but for general entertainment, stay away.\n",
            "------------------------------------------------------\n",
            "\n",
            "--------------- Review with score of 1 ---------------\n",
            "In my opinion, October Sky is one of the best movies of 1999...It totally has everything an emotional drama movie would need, like, wonderful story and good character interactions. October Sky will remain in heart for as long as I can remember, and I just have to say a very special thanks to those who have created this film.\n",
            "------------------------------------------------------\n",
            "\n",
            "--------------- Review with score of 1 ---------------\n",
            "I love Korean films because they have the ability to really (quiet eerily really) capture real life. I tend to watch Korean movies just for that reason alone. I've seen this directors other movies before. The one that comes closest to the feelings I got from this is Oasis and another awesome film called This Charming Girl.<br /><br />However, my title summary is supposed to be from a Chrstian perspective so I'll just start doing that instead of just showering it with praise.<br /><br />For a non Christian perspective Director Chang-dong Lee has captured an unbiased and almost eerily real portrayal of a modern Protestant church (regardless of denomination) warts and all. I've always been waiting for a Christian film that truly portrays the darker recesses of church life. Because Christian films tend to speak in a language that is different to those they want to share their faith to. Many films with religious undertones, though having good motives, tend to just have the resonance of a Disney film or after school special. They need to show life as it is. Real people curse, real people lust, real people fall. And though Christians believe that salvation is available to those that seek it, we are still challenged by the everyday horrors of this life. And Do-yeon Jeon's character is a totally honest and almost brutal portrayal of a woman that found God, but because of life's bitter realities, loses that love for Him she once had. She doesn't deny God exists. It is just that she refuses to accept to live with the idea that He is an all loving and forgiving God.<br /><br />In her decent to the edges of morality and madness, her character asks questions that are in the mind of every one, religious or not.<br /><br />\"If God is Love, why does He allow such terrible things to happen?\" This film doesn't answer that, rightly so. And I believe the last 10 minutes of the film, though open to interpretation, leaves us with a hopeful future for our main character and brings the idea of \"secret sunshine\" full circle.<br /><br />I don't believe for a second that this film tried to be religious or had in any way tried and set out to be that. There in lies the reason why it worked even more. It's real, it's honest. And because of that, it is by far the best summation of a real Christian life I have seen on film.\n",
            "------------------------------------------------------\n",
            "\n",
            "--------------- Review with score of -1 ---------------\n",
            "This is definitely the worst bigfoot movie I've ever seen and quite possibly the overall worst movie I've ever seen in my life. The actors and actresses were horrible and it seemed like they were trying way too hard to play their roles as dorks, tough guys, jerks, know it alls, etc. And the bigfoot itself was terrible. It appeared to be some kind of computer generated image from the days of Atari & Intellivision. At one point near the end of the movie as an army of sasquatches were chasing after the remaining survivors, one gets shot and as it's running it looked like a poor man's version of donkey kong himself! And one gets hit by a bullet and the blood that comes out of it was just awful animation. Another thing that was annoying was the music. Way way way too much music (classical score or whatever you call it) throughout the entire film. It was never ending. Oh yeah, the movie is boring too. Absolutely one of the worst films I've ever seen. I highly recommend taking your $3 or whatever they charge to rent this movie and spending it on a gallon of gas or a value menu somewhere. TRULY AWFUL!\n",
            "------------------------------------------------------\n",
            "\n",
            "--------------- Review with score of -1 ---------------\n",
            "This starts off bad, what with the three women acting like simpering junior high school wussies sitting around giggling with their gin, endless cigarettes and a caramel chocolate treat for the one who tells the best 'man' story, and then it gets worse -=- spoiler alert =-= what with Andie's character falling for the young organ player who used to be her student when he was 14 (she's the headmistress of an English school, believe it or not), only to have him destroyed thanks to her bitch-from-hell 'girlfriend' . ..and then from there, it's basically unwatchable claptrap: she forgives her 'friend' and has the organ player's love child and the 3 women end up as they started, drinking more gin and smoking more cigarettes blah blah blah. Andie's character throws the caramel chocolates out in the street, in a pathetic attempt to symbolize growth. Have mercy.\n",
            "------------------------------------------------------\n",
            "\n",
            "--------------- Review with score of -1 ---------------\n",
            "I get the feeling that the producers of this mess were out to make the most painful, ridiculous Western ever made. \"PAINFUL\" is the best word I can think of to describe it.<br /><br />On the plus side you have nice color photography and beautiful and well-spoken Rhonda Fleming. My sympathy goes to Jacques Aubuchon (who played the cripple), who acted well enough in an annoying role, written so atrociously that no actor could give an enjoyable performance. The production values were quite good, which only served to highlight the terrible story and screenplay.<br /><br />Things I hated: Stewart Granger looked so little like a western figure, what with his British accent, neat tailored outfit, and silly immaculate always-white kerchief tied around his neck. It got tiresome the way the townspeople and his son were constantly haranguing and insulting Granger, and he never spoke up or replied back. I know we are supposed to suspend disbelief and appreciate Westerns as symbolic morality plays, but this one broke the spell with it laughably unrealistic and predictable scenes, the worst being at the end where Granger miraculously, speedily and single-handedly plants dynamite around a canyon pass that the bad guy's cattle will pass through, and then Granger plants himself in the perfect spot so he can shoot the dynamite from a very far distance to create rock slides to bury and spook the cattle and bad guys, seemingly destroying them all, save the two main bad guys. Next worst is everything about the plot, which is loaded with soap opera scenes. Nothing in the movie seemed believable: I couldn't believe what all the conflict was about. The bad guy was driving his herd through to market and wanted the cows to chew some grass along the way; I don't see why something couldn't have been worked out. You need a land ownership dispute for that? Don't bother to see it.\n",
            "------------------------------------------------------\n",
            "\n",
            "--------------- Review with score of -1 ---------------\n",
            "I rented this film on Netflix after it won all the Oscars, to see if it was really that good.<br /><br />The Hurt Locker is a very realistic portrayal (for the most part) of a group of soldier's rotation in Iraq. The film centers around Will James, a reckless soldier who gets his adrenaline fix from taking risks, and defusing bombs.<br /><br />Where this film seems to lack in my opinion is the Plot and Direction of the movie. This film has no clear plot unlike other films such as Black Hawk Down. What this film tries to do is focus more on the characters, and their different attitudes about the war. Bigelow does an okay job of focusing on the characters, but there are many points in the film where the dialogue seems to drag. Hurt Locker is 131 minutes long, yet it feels like a 3 hour movie.<br /><br />One scene in the movie that was particularly awful, and ruined the films perfect credibility, was the sniping scene halfway through the movie. It was both unrealistic, and very long.<br /><br />Overall, I thought this film was OKAY, but the reason I gave it a 6 instead of a 7, was because it was a major letdown for winning Best Picture at the Oscars. I felt like this film could have been so much better considering Saving Private Ryan lost Best Picture, but was much better than this film. Another notable mention is Black Hawk Down which only won 2 Oscars. I honestly do not know how this won best picture.<br /><br />If you are looking for an action packed war flick, rent Black Hawk Down. This film will be forgotten in a year or two.\n",
            "------------------------------------------------------\n",
            "\n",
            "--------------- Review with score of 1 ---------------\n",
            "I found this movie to be suspenseful almost from the get-go. When Miss Stanwyck starts her narration it's only a few minutes until you realize that trouble is coming. The deserted area, the lock on the deserted gas station door, everything sets you up to wait for it...here it comes. At first you think it will be about the little boy, but all too soon you start holding your breath watching the tide coming in. I found this movie to be really stressful, even though I had watched it before and was prepared for the denouement. Now a movie that can keep you in suspense even when you have seen it before deserves some sort of special rating, maybe a white knuckles award?\n",
            "------------------------------------------------------\n",
            "\n",
            "--------------- Review with score of -1 ---------------\n",
            "The 1930s saw a vogue for documentary films about remote corners of the world, with an emphasis on wild animals, exotic terrain and primitive people with unusual cultures. Despite the logistics of transporting a film crew to a distant and dangerous place, and then bringing 'em back alive (with the film footage), such films were often much cheaper to make than were conventional Hollywood features ... because there were no expensive sets, costumes, or high-priced movie stars.<br /><br />The most successful makers of such films (artistically and financially) were the team of Martin E. Johnson and his wife Osa, who made several documentaries (sometimes with blatantly staged events) in Africa and Asia. The Johnsons' safari films were extremely popular, inspiring several parodies ... most notably Wheeler & Woolsey's \"So This is Africa\", in which the very sexy Esther Muir plays a character named Mrs. Johnson-Martini (instead of Martin E. Johnson, geddit?). Although several other filmmakers were producing safari documentaries at this time, the Johnsons' films were the most popular in this genre because they relied heavily on humour. Viewed from our own more enlightened (I hope) standpoint, this is a serious flaw in the Johnsons' documentaries: there are too many scenes in which the funny little brown or yellow people are made to look complete idiots who are easily outsmarted by the clever white bwana Johnson and his wife.<br /><br />One definite asset of these movies is the presence of Osa Johnson. Ten years younger than her husband, she manages to seem young enough to be his daughter. While certainly not as attractive as the shapely blond Esther Muir, Osa Johnson was a pert brunette who gave ingratiating performances in front of the camera in all the films she co-produced with her husband.<br /><br />'Congorilla' is probably the best of the Johnsons' films. The shots of the Congo are interesting and have some historical value as evidence of what this environment looked like in 1930. The shots of the Pygmies and other natives are also interesting, although these suffer from the Johnsons' penchant to stage events in a manner that makes the natives look 'wild' and alien.<br /><br />The best (and funniest) scene in 'Congorilla' is an improvised sequence in which Osa Johnson attempts to teach a jazz dance to some Pygmy women. (The dance is the Black Bottom, no less ... the same dance which Bob Hope famously taught to Daisy and Violet Hilton, the conjoined twins.) Wearing jodhpurs, riding boots, and a pith helmet, Osa Johnson starts scat-singing while she does high steps and slaps her knees in her attempt to teach this dance to the African women. Meanwhile, they just stand there staring at her, apparently wondering what this crazy white woman is trying to accomplish. It's a very funny scene, but it has unpleasant undertones. Osa Johnson is doing a dance that was invented by black Americans: the implication seems to be that black Africans should instinctively be able to perform this dance after a brief demonstration (using natural rhythm, I guess) because it's in their blood, or something.<br /><br />I'll rate 'Congorilla' 4 points out of 10. This film says a little bit about African life in the 1930s and rather more about American cultural perceptions in that same decade.\n",
            "------------------------------------------------------\n",
            "\n"
          ],
          "name": "stdout"
        }
      ]
    },
    {
      "cell_type": "markdown",
      "metadata": {
        "id": "D7qKVCAst-kv"
      },
      "source": [
        "## 2. Preprocessing\n",
        " We will be converting our data into a binary bag-of-words representation (Google \"binary bag-of-words\"). To do this, we will perform two steps beforehand."
      ]
    },
    {
      "cell_type": "markdown",
      "metadata": {
        "id": "6VWSBN37uXod"
      },
      "source": [
        "### Question 2.1 Cleaning the train data\n",
        "Create a function called `clean`, which takes a string and then:\n",
        "\n",
        " 1. lower-case all words \n",
        " 2. only keeps letters and spaces\n",
        " \n",
        "\n",
        " We also need to get rid of [HTML tags](https://www.javatpoint.com/html-tags) as they do not hold valuable information for classifying the review. A quick Google search on removing HTML tags with `regular expressions` will show you how to do this! \n",
        "  \n",
        "  For example, the following review...\n",
        "  \n",
        "  >`This was the WORST movie I have EVER SEEN!! <br/>`\n",
        "  \n",
        "  ...will be cleaned to become:\n",
        "  \n",
        "  >`this was the worst movie i have ever seen`\n",
        "  \n",
        "   Of course, you could do more pre-processing steps if you would like, such as lemmatization, stemming, etc... but TOTALLY OPTIONAL! "
      ]
    },
    {
      "cell_type": "code",
      "metadata": {
        "id": "rAje0IKVU2-c"
      },
      "source": [
        "def clean(review):\n",
        "  ### Start of Answer ###\n",
        "  def rem_HTML(string_html):\n",
        "    cleanre = re.compile('<.*?>')\n",
        "    cleantxt = re.sub(cleanre,'', string_html)\n",
        "    return cleantxt\n",
        "  #html\n",
        "  review = rem_HTML(review)\n",
        "  #punctuation\n",
        "  review = review.translate(str.maketrans('','',string.punctuation))\n",
        "  #lowercase\n",
        "  review = review.lower()\n",
        "\n",
        "  #stemming\n",
        "  #heres an implementation but might not use it cause I don't have to time to make sure it works\n",
        "  #ps = PorterStemmer\n",
        "  #words = review.split()\n",
        "  #for word in words:\n",
        "  #    word = ps.stem(word)\n",
        "\n",
        "  return review;\n",
        "  ### End of Answer ###\n"
      ],
      "execution_count": 6,
      "outputs": []
    },
    {
      "cell_type": "markdown",
      "metadata": {
        "id": "DwT4zB4RIodc"
      },
      "source": [
        "Test your function with this example string"
      ]
    },
    {
      "cell_type": "code",
      "metadata": {
        "id": "GBnmJ_jIU27c",
        "outputId": "8b634c26-6378-4822-8a54-9aec75981dc3",
        "colab": {
          "base_uri": "https://localhost:8080/",
          "height": 34
        }
      },
      "source": [
        "print(clean(\"This was the WORST movie I have EVER SEEN!! <br/> \"))"
      ],
      "execution_count": 7,
      "outputs": [
        {
          "output_type": "stream",
          "text": [
            "this was the worst movie i have ever seen  \n"
          ],
          "name": "stdout"
        }
      ]
    },
    {
      "cell_type": "markdown",
      "metadata": {
        "id": "nZ3csQCzI27I"
      },
      "source": [
        "Now, we'll use the function to clean the whole dataset. We'll also turn the scores from strings to integers while we're at it."
      ]
    },
    {
      "cell_type": "code",
      "metadata": {
        "id": "jRkQWUIvYfnO"
      },
      "source": [
        "X_train = []\n",
        "y_train = []\n",
        "for review, score in data:\n",
        "  X_train.append(clean(review))\n",
        "  y_train.append(int(score))"
      ],
      "execution_count": 8,
      "outputs": []
    },
    {
      "cell_type": "markdown",
      "metadata": {
        "id": "CuW0ahvaJtOt"
      },
      "source": [
        "### Question 2.2 Picking features\n",
        "\n",
        "We now need to turn each review into vectors. We will pick the 10,000 most recurring words in the train set as features\n",
        "\n",
        "Using those 10,000 features, create a function called `vectorize` which will take a string as an input, and convert it to a vector using the binary bag of words representation.\n",
        "\n",
        "For example, the string `\"This movie made me cry\"` will become a vector of size 10,000 with 5 elements being 1 (assuming each word is part of the 10,000 most common) and 9995 being 0, that it, is i will look something like\n",
        "\n",
        " > `[0, 0, ..., 0, 1, 0, ..., 0, 1, 0..., 0, 1, 0, ..., 0, 1, 0 ..., 0, 1, 0, ..., 0, 0]`\n",
        " \n",
        " In order to accomplish this task, you will\n",
        " \n",
        " 1. write a `get_vocab` function which takes as an argument a list of (cleaned) reviews and the vocabulary size and outputs the a list of size `vocab_size` containing the most common words.\n",
        " 2. write a `vectorize` function which takes as an argument a review and the vocabulary and turns the review into its binary bag of words representation.\n",
        " 3. use the `vectorize` function to create a new variable called `X_train_vect` which will contain the bag-of-words representation of each data point contained in the `X_train` variable rather than its string representation.\n",
        "\n",
        "**Warning**: the last step may take up to 15 minutes depending on your implementation. Despite the execution speed not being evaluated in this assignment, do try your best to have fast and efficient code!"
      ]
    },
    {
      "cell_type": "code",
      "metadata": {
        "id": "Oa0E04tFYf6x"
      },
      "source": [
        "def get_vocab(reviews, vocab_size):\n",
        "  ### Answer starts here ###\n",
        "  words = []\n",
        "  for review in reviews:\n",
        "    words.extend(review.split())\n",
        "\n",
        "  #create dictionary with word frequencies\n",
        "  word_freq_Map = defaultdict(int)\n",
        "  for word in words:\n",
        "    word_freq_Map[word] += 1\n",
        "\n",
        "  # heap soln\n",
        "  #heapq implements only a min heap it's better to invert the values\n",
        "  #so that bigger values become smaller. \n",
        "  #Soln is slow for small n, faster for large n compared to sorting\n",
        "\n",
        "  heap = [(-count, word) for word, count in word_freq_Map.items()]\n",
        "  nlargest = heapq.nsmallest(vocab_size,heap)\n",
        "  \n",
        "  nlargest_words = []\n",
        "  \n",
        "  for word in nlargest:\n",
        "    nlargest_words.append(word[1])\n",
        "\n",
        "  return nlargest_words\n",
        "  ### Answer ends here ###"
      ],
      "execution_count": 9,
      "outputs": []
    },
    {
      "cell_type": "markdown",
      "metadata": {
        "id": "E38yzbclLXs3"
      },
      "source": [
        "Test your function with the following code. The `vocabulary` variable should have a length of 10,000 and the most common words should be \"the\", \"and\", \"a\", etc."
      ]
    },
    {
      "cell_type": "code",
      "metadata": {
        "id": "WD9Jz8zpYfru",
        "outputId": "488f254f-89a9-4fcc-aada-54bb73ad0307",
        "colab": {
          "base_uri": "https://localhost:8080/",
          "height": 70
        }
      },
      "source": [
        "num_features = 10000\n",
        "vocabulary = get_vocab(X_train, num_features)\n",
        "print(len(vocabulary))\n",
        "print(vocabulary)"
      ],
      "execution_count": 11,
      "outputs": [
        {
          "output_type": "stream",
          "text": [
            "10000\n",
            "['the', 'and', 'a', 'of', 'to', 'is', 'in', 'it', 'this', 'i', 'that', 'was', 'as', 'with', 'for', 'movie', 'but', 'film', 'on', 'not', 'are', 'you', 'his', 'have', 'be', 'he', 'one', 'its', 'at', 'all', 'by', 'an', 'they', 'who', 'from', 'like', 'so', 'her', 'or', 'just', 'about', 'has', 'out', 'if', 'some', 'what', 'there', 'good', 'more', 'very', 'when', 'she', 'even', 'up', 'no', 'would', 'my', 'which', 'only', 'time', 'really', 'story', 'their', 'were', 'had', 'see', 'can', 'me', 'than', 'we', 'much', 'been', 'get', 'well', 'will', 'into', 'because', 'people', 'other', 'do', 'also', 'bad', 'great', 'how', 'first', 'most', 'him', 'dont', 'made', 'movies', 'then', 'films', 'make', 'could', 'way', 'them', 'any', 'too', 'after', 'characters', 'think', 'watch', 'two', 'many', 'being', 'seen', 'character', 'never', 'little', 'acting', 'plot', 'where', 'best', 'love', 'did', 'know', 'life', 'show', 'does', 'ever', 'your', 'better', 'over', 'still', 'off', 'end', 'these', 'say', 'man', 'here', 'scene', 'why', 'such', 'scenes', 'while', 'go', 'should', 'something', 'through', 'back', 'those', 'im', 'doesnt', 'real', 'watching', 'years', 'thing', 'actors', 'though', 'didnt', 'new', 'actually', 'makes', 'before', 'nothing', 'now', 'find', 'another', 'work', 'funny', 'few', 'look', 'old', 'going', 'same', 'lot', 'every', 'us', 'part', 'again', 'cant', 'director', 'quite', 'cast', 'want', 'thats', 'pretty', 'things', 'seems', 'young', 'got', 'around', 'fact', 'down', 'world', 'take', 'enough', 'between', 'give', 'may', 'both', 'big', 'horror', 'original', 'thought', 'own', 'however', 'ive', 'without', 'gets', 'always', 'series', 'right', 'isnt', 'long', 'saw', 'come', 'almost', 'times', 'least', 'role', 'point', 'action', 'must', 'interesting', 'whole', 'bit', 'comedy', 'family', 'theres', 'done', 'music', 'script', 'anything', 'might', 'last', 'hes', 'guy', 'feel', 'minutes', 'far', 'since', 'performance', 'probably', 'am', 'kind', 'rather', 'worst', 'away', 'yet', 'sure', 'tv', 'making', 'woman', 'girl', 'each', 'found', 'fun', 'played', 'anyone', 'our', 'comes', 'believe', 'having', 'trying', 'course', 'especially', 'goes', 'day', 'looks', 'shows', 'hard', 'although', 'different', 'put', 'wasnt', 'place', 'book', 'money', 'reason', 'main', 'sense', 'set', 'ending', 'looking', 'true', 'worth', 'once', 'everything', 'watched', 'plays', 'maybe', 'someone', 'job', 'actor', 'seem', 'said', 'takes', 'screen', 'dvd', 'three', 'play', 'together', 'beautiful', 'effects', 'during', 'instead', 'himself', '10', 'later', 'version', '2', 'john', 'left', 'everyone', 'seeing', 'audience', 'special', 'night', 'house', 'american', 'excellent', 'idea', 'wife', 'nice', 'simply', 'shot', 'youre', 'read', 'high', 'completely', 'less', 'black', 'else', 'help', 'kids', 'fan', 'star', 'war', 'used', 'poor', 'second', 'year', 'given', 'father', 'death', 'try', 'friends', 'need', 'rest', 'use', 'home', 'men', 'enjoy', 'mind', 'performances', 'short', 'classic', 'until', 'either', 'truly', 'hollywood', 'boring', 'along', 'half', 'wrong', 'dead', 'tell', 'production', 'line', 'women', 'couple', 'remember', 'came', 'start', 'recommend', 'next', 'understand', 'full', 'wonderful', 'getting', 'mean', 'others', 'stupid', 'let', 'moments', 'playing', 'keep', 'perhaps', 'awful', 'episode', 'camera', 'terrible', 'small', 'gives', 'stars', 'doing', 'often', 'sex', 'video', 'definitely', 'early', 'perfect', 'become', 'name', 'felt', 'face', 'human', 'school', 'supposed', 'couldnt', 'liked', 'lines', 'dialogue', 'piece', 'person', 'itself', 'lost', 'top', 'absolutely', 'case', 'against', 'entire', 'went', 'live', 'certainly', 'sort', 'waste', 'head', 'shes', 'budget', 'written', 'finally', 'style', 'hope', 'problem', 'picture', 'several', 'loved', 'evil', 'yes', 'title', 'worse', 'becomes', 'entertaining', 'cinema', 'mr', 'seemed', 'beginning', 'white', 'fans', 'boy', 'already', 'care', 'wanted', 'dark', 'example', '\\x96', 'based', 'lives', 'id', 'guys', 'killer', 'mother', 'friend', 'direction', 'throughout', 'totally', 'turn', 'wont', 'fine', 'wants', 'children', 'final', 'amazing', 'drama', 'laugh', 'girls', 'guess', '3', 'lead', 'tries', 'humor', 'called', 'sound', 'youll', 'writing', 'low', 'under', 'despite', 'works', 'turns', 'history', 'able', 'enjoyed', 'oh', 'behind', 'past', 'theyre', 'unfortunately', 'michael', 'quality', 'days', 'gave', 'favorite', 'starts', 'son', 'kill', 'game', 'act', '1', 'sometimes', 'town', 'side', 'viewer', 'parts', 'car', 'horrible', 'actress', 'child', 'ones', 'eyes', 'expect', 'soon', 'flick', 'themselves', 'heart', 'art', 'thinking', 'obviously', 'brilliant', 'stories', 'decent', 'feeling', 'genre', 'myself', 'run', 'directed', 'late', 'overall', 'stuff', 'blood', 'fight', 'says', 'close', 'city', 'took', 'cannot', 'heard', 'hand', 'highly', 'leave', 'except', 'killed', 'kid', 'matter', 'ill', 'moment', 'police', 'hell', 'wouldnt', 'extremely', 'roles', 'strong', 'happens', 'particularly', 'hour', 'lack', 'happened', 'involved', 'attempt', 'obvious', 'told', 'chance', 'living', 'wonder', 'etc', 'james', 'violence', 'including', 'complete', 'voice', 'murder', 'coming', 'daughter', 'group', 'looked', 'age', 'save', 'experience', 'type', 'alone', 'simple', 'number', 'exactly', 'slow', 'ago', 'god', 'happen', 'shown', 'interest', 'score', 'whose', 'brother', 'taken', 'none', 'serious', 'usually', 'across', 'cinematography', 'hours', 'stop', 'annoying', 'running', 'somewhat', 'song', 'known', 'ends', 'opening', 'musical', 'usual', 'sad', 'career', 'finds', 'yourself', 'hit', 'wish', 'started', 'huge', 'released', 'relationship', 'scary', 'gore', 'possible', 'lets', 'please', 'jokes', 'order', 'change', 'crap', 'david', 'saying', 'reality', 'shots', 'english', 'hilarious', 'ridiculous', 'episodes', 'novel', 'cool', 'mostly', 'body', 'cut', 'today', 'female', 'ok', 'major', 'opinion', 'seriously', 'talking', 'taking', 'call', 'robert', 'strange', 'directors', 'due', 'important', 'hero', 'supporting', 'knows', 'documentary', 'knew', 'view', 'power', 'events', 'apparently', 'happy', 'husband', 'turned', 'clearly', 'talent', 'songs', 'arent', 'level', 'room', 'british', 'king', 'single', 'tells', 'easily', 'local', 'attention', 'basically', 'word', 'anyway', '5', 'bring', 'problems', 'words', 'cheap', 'silly', 'sequence', 'disappointed', 'modern', 'television', 'falls', 'light', 'future', 'sets', 'four', 'beyond', 'similar', 'country', 'five', 'miss', 'whether', 'appears', 'needs', '4', 'romantic', 'giving', 'jack', 'comic', 'earth', 'predictable', 'viewers', 'upon', 'entertainment', 'talk', 'rating', 'paul', 'within', 'havent', 'review', 'feels', 'george', 'mention', 'message', 'whats', 'nearly', 'enjoyable', 'bunch', 'lady', 'theater', 'animation', 'storyline', 'richard', 'rock', 'actual', 'points', 'middle', 'surprised', 'moving', 'above', 'named', 'theme', 'lots', 'using', 'herself', 'dull', 'mystery', 'add', 'begins', 'ways', 'among', 'sequel', 'fantastic', 'elements', 'showing', 'ten', 'typical', 'york', 'easy', 'comments', 'stay', 'team', 'thriller', 'writer', 'tried', 'clear', 'effort', 'fall', 'certain', 'hate', 'near', 'release', 'famous', 'french', 'means', 'parents', 'tale', 'leads', 'kept', 'straight', 'buy', 'greatest', 'working', 'dialog', 'class', 'form', 'somehow', 'soundtrack', 'doubt', 'general', 'editing', 'red', 'brought', 'sister', 'weak', 'figure', 'peter', 'feature', 'oscar', 'season', 'gone', 'hear', 'material', 'filmed', 'particular', 'whos', 'sorry', 'viewing', 'learn', 'realistic', 'move', 'atmosphere', 'check', 'tom', 'reviews', 'youve', 'decided', 'fast', 'sequences', 'imagine', 'period', 'deal', 'eventually', 'possibly', 'lame', 'became', 'dance', 'follow', 'premise', 'de', 'space', 'stand', 'avoid', 'eye', 'difficult', 'sit', 'lee', 'wait', 'die', 'expected', 'forget', 'poorly', 'zombie', 'sexual', 'indeed', 'japanese', 'writers', 'crime', 'nature', 'surprise', 'third', '80s', 'nor', 'average', 'leaves', 'subject', 'suspense', 'killing', 'stage', 'believable', 'whatever', 'truth', 'filmmakers', 'needed', 'rent', 'screenplay', 'meets', 'meet', 'reading', 'begin', 'boys', 'question', 'romance', 'emotional', 'realize', 'street', 'forced', 'joe', 'memorable', 'dr', 'minute', 'superb', 'write', 'older', 'keeps', 'baby', 'earlier', 'interested', 'situation', 'weird', 'whom', 'footage', 'credits', 'beauty', 'dramatic', 'features', 'disney', 'otherwise', 'shame', 'dog', 'towards', 'ask', 'badly', 'previous', 'brings', 'note', 'crazy', 'hot', 'comment', 'okay', 'male', 'personal', 'total', 'worked', 'plenty', 'incredibly', 'sounds', 'admit', 'directing', 'perfectly', 'result', 'cheesy', 'laughs', 'society', 'unless', 'quickly', 'unique', 'america', 'deep', 'creepy', 'free', 'development', 'appear', 'leading', 'brothers', 'meant', 'return', 'hardly', 'plus', 'hands', '20', 'casting', 'open', 'effect', 'various', 'b', 'create', 'imdb', 'remake', 'mark', 'setting', 'christmas', 'mess', 'battle', 'scifi', 'background', 'forward', 'potential', 'dream', 'monster', 'portrayed', 'powerful', '70s', 'inside', 'business', 'fairly', 'outside', 'bill', 'ideas', 'manages', 'expecting', 'fails', 'missing', 'apart', 'attempts', 'political', 'present', 'deserves', 'twist', 'la', 'secret', 'dumb', 'fire', 'jane', 'fantasy', 'fighting', 'joke', 'air', 'gay', 'pay', 'front', 'married', 'masterpiece', 'rich', 'box', 'copy', 'reasons', 'agree', 'recently', 'nudity', 'ben', 'break', 'acted', 'talented', 'plain', 'success', 'cute', 'telling', 'william', 'western', 'further', 'match', 'villain', 'pure', 'incredible', 'missed', 'odd', 'girlfriend', 'doctor', 'caught', 'crew', 'decides', 'cop', 'large', 'social', 'mentioned', 'sadly', 'sees', 'waiting', 'unlike', 'uses', 'flat', 'following', 'members', 'ended', 'hold', 'popular', 'slightly', 'public', 'wasted', 'considering', 'pace', 'sweet', 'wrote', 'spent', 'suddenly', 'entirely', 'kills', 'compared', 'neither', 'created', 'intelligent', 'rate', 'audiences', 'familiar', 'office', 'cause', 'convincing', 'bored', 'tension', 'visual', 'clever', 'era', 'escape', 'party', 'moves', 'cartoon', 'list', 'biggest', 'credit', 'laughing', 'revenge', 'scott', 'basic', 'fear', 'successful', 'recent', 'island', 'gun', 'positive', 'spend', 'spirit', 'trouble', 'violent', 'appreciate', 'books', 'choice', 'consider', 'cover', 'mary', 'cold', 'dancing', 'died', 'water', 'zombies', 'speak', 'former', 'singing', 'concept', 'portrayal', 'science', 'filled', 'younger', 'value', 'adult', 'bizarre', 'common', 'produced', 'solid', 'state', 'amount', 'focus', 'werent', 'animated', 'exciting', 'ultimately', 'walk', 'band', 'effective', 'language', 'showed', 'amusing', 'german', 'italian', 'fit', 'producers', 'follows', 'runs', 'considered', 'impossible', 'van', 'cat', 'chemistry', 'decide', 'impressive', 'tone', 'pointless', 'store', 'won', 'company', 'barely', 'depth', 'win', 'control', 'situations', '15', 'changed', 'leaving', 'mad', 'project', 'studio', 'college', 'prison', 'force', 'sick', '12', '8', 'respect', 'hair', 'somewhere', 'trip', 'awesome', 'century', 'failed', 'likes', 'longer', 'planet', 'questions', 'shooting', 'slasher', 'charming', 'involving', 'honest', 'surprisingly', 'disturbing', 'trash', 'accent', 'generally', 'images', 'literally', 'starring', '30', 'immediately', 'tony', 'values', 'bought', 'fake', 'south', 'utterly', 'ghost', 'recommended', 'touch', 'pictures', 'magic', 'steve', 'natural', 'west', '7', 'ability', 'aspect', 'glad', 'adaptation', 'adventure', 'pathetic', 'sitting', 'computer', 'appearance', 'culture', 'explain', 'thanks', 'frank', 'normal', 'conclusion', 'fair', 'camp', 'cult', 'tough', 'alive', 'jim', 'stick', 'aside', 'remains', 'rare', 'catch', 'dad', 'knowing', 'thinks', 'appeal', 'meaning', 'army', 'silent', 'added', 'genius', 'detective', 'humour', 'managed', 'terms', 'garbage', 'military', 'sam', 'soldiers', 'taste', 'sexy', 'walking', '100', 'dreams', 'smith', 'standard', 'twists', 'attack', 'beautifully', 'comedies', 'london', 'loves', 'subtle', 'journey', 'nowhere', 'personally', 'honestly', 'yeah', 'purpose', 'touching', 'woods', 'complex', 'harry', 'likely', 'naked', 'pick', 'equally', 'channel', 'wild', 'excuse', 'terrific', 'fully', 'mood', 'lovely', 'master', 'plan', 'chase', 'narrative', 'cinematic', 'road', 'central', 'constantly', 'fiction', 'themes', 'contains', 'surely', 'issues', 'slowly', 'outstanding', 'self', 'unbelievable', 'week', 'brain', 'nobody', 'innocent', 'painful', 'presented', 'thrown', 'batman', 'pass', 'disappointing', 'presence', 'youd', 'animals', 'date', 'historical', 'marriage', 'spoilers', 'thank', 'thus', 'impression', 'places', 'stunning', 'costumes', 'critics', 'hoping', 'laughable', 'makers', 'club', 'mysterious', 'shoot', 'details', 'stands', 'mistake', 'edge', 'justice', 'photography', 'charm', 'chris', 'christopher', 'indian', 'sent', 'soul', 'charles', 'aspects', 'minor', 'door', 'finish', 'ride', 'brief', 'climax', 'exception', 'law', 'makeup', 'heavy', 'feelings', 'government', 'manner', 'stewart', 'boss', 'color', 'element', 'expectations', 'mainly', 'pieces', 'support', 'suppose', 'vampire', 'festival', 'gang', 'opportunity', 'scenery', 'train', 'filming', 'names', 'acts', 'bother', 'loud', 'paris', 'cry', 'victims', 'puts', 'track', 'changes', 'intended', 'serial', 'smart', 'award', 'drawn', 'falling', 'fascinating', 'throw', 'available', 'emotions', 'charlie', 'suggest', 'tired', 'church', 'disappointment', 'include', 'victim', 'blue', 'hey', 'building', 'emotion', 'hasnt', 'rated', 'twice', 'confused', 'henry', 'likable', 'ahead', 'hotel', 'compelling', '9', 'appeared', 'followed', 'green', 'motion', 'developed', 'dies', 'giant', 'image', 'lacks', 'laughed', 'mans', 'pain', 'students', 'approach', 'forever', 'gorgeous', 'besides', 'difference', 'everybody', 'impact', 'share', 'fellow', 'hurt', 'million', 'offer', 'wow', 'bed', 'bruce', 'fresh', 'merely', 'trailer', '6', 'happening', 'kelly', 'proves', 'wondering', 'confusing', 'drive', 'finding', 'moral', 'speaking', 'answer', 'bar', 'helps', 'relationships', 'shock', 'adults', 'funniest', 'random', 'supposedly', 'system', 'creative', 'jerry', 'notice', 'putting', 'delivers', 'key', 'mix', 'murders', 'numbers', 'christian', 'jones', 'lighting', 'noir', 'opera', 'provides', 'student', 'born', 'bottom', 'damn', 'mediocre', 'paid', 'billy', 'absolute', 'addition', 'event', 'lived', 'negative', 'zero', 'becoming', 'content', 'drug', 'fell', 'impressed', 'park', 'alien', 'gem', 'offers', 'thoroughly', 'tragedy', 'boyfriend', 'flying', 'land', 'producer', 'summer', 'childhood', 'flicks', 'lover', 'reminded', 'imagination', 'hospital', 'attractive', 'flaws', 'lose', 'seemingly', 'stuck', 'race', 'ii', 'tragic', 'americans', 'extreme', 'rented', 'ugly', '90', 'agent', 'held', 'holes', 'nasty', 'six', 'standards', 'adds', 'intense', 'ms', 'page', 'shouldnt', 'spot', 'asks', 'beat', 'martin', 'rape', 'williams', 'afraid', 'artistic', 'detail', 'faces', 'hidden', 'pull', 'filmmaker', 'folks', 'porn', 'ray', 'seconds', 'turning', 'arthur', 'games', 'industry', 'step', 'affair', 'collection', 'describe', 'latter', 'onto', 'shocking', 'states', 'super', 'al', 'angry', 'forgotten', 'picked', 'alan', 'davis', 'teenage', 'therefore', 'actresses', 'area', 'ready', 'favourite', 'led', 'mom', 'redeeming', 'deliver', 'design', 'grade', 'count', 'information', 'wooden', 'allowed', 'dirty', 'seven', 'soldier', 'carry', 'compare', 'inspired', 'queen', 'struggle', 'thin', 'brian', 'chinese', 'ground', 'includes', 'location', 'personality', 'willing', 'apartment', 'helped', 'lord', 'moved', 'news', 'animal', 'bond', 'deeply', 'fashion', 'desperate', 'intelligence', 'wars', 'allen', 'martial', 'quick', 'wonderfully', 'listen', 'direct', 'member', 'uncle', 'criminal', 'began', 'cliché', 'grace', 'professional', 'captain', 'castle', 'cops', 'food', 'scientist', 'stephen', 'clothes', 'creature', 'jason', 'cgi', 'double', 'introduced', 'mental', 'phone', 'rarely', 'todays', 'worthy', 'humans', 'necessary', 'plane', 'spoiler', 'theatre', 'wearing', 'anymore', 'comedic', 'independent', 'realized', 'apparent', 'commentary', 'don', 'drugs', 'dying', 'fox', 'tears', 'energy', 'physical', 'provide', 'superior', 'trust', 'allow', 'epic', 'technical', 'wall', 'continue', 'desire', 'ship', 'treat', 'nightmare', 'remarkable', 'sky', 'arts', 'filmmaking', 'mouth', 'sight', 'unusual', 'accident', 'stone', 'limited', 'powers', 'returns', 'scared', '60s', 'accept', 'bloody', 'engaging', 'heroes', 'reminds', 'ring', 'station', 'whatsoever', 'witch', 'douglas', 'holds', 'pleasure', 'suspect', 'actions', 'danny', 'search', 'wedding', 'brutal', 'build', 'hated', 'intriguing', 'machine', 'surprising', 'teacher', 'tim', 'academy', 'asked', 'disaster', 'wanting', 'clichés', 'russian', 'sleep', 'unnecessary', 'bits', 'constant', 'finished', 'fred', 'grand', 'pacing', 'vision', 'ie', 'absurd', 'artist', 'process', 'religious', 'sat', 'suicide', 'extra', 'johnny', 'legend', 'lies', 'nicely', 'normally', 'passion', 'anywhere', 'monsters', 'roll', 'warning', 'anybody', 'blame', 'gotten', 'killers', 'lovers', 'media', 'suit', 'deserve', 'explanation', 'faith', 'growing', 'joan', 'joy', 'dangerous', 'instance', 'toward', 'watchable', 'ed', 'ladies', 'memory', 'met', 'players', 'villains', 'andy', 'quiet', 'skip', 'unknown', 'winning', 'hadnt', 'torture', '40', 'accurate', 'capture', 'eddie', 'higher', 'smile', 'cars', 'heads', 'jump', 'pilot', 'somebody', 'according', 'heaven', 'hopes', 'community', 'creating', 'exist', 'fail', 'jr', 'nick', 'river', 'friendship', 'guns', 'jeff', 'fights', 'responsible', 'featuring', 'record', 'saved', 'teen', 'vs', 'dick', 'england', 'kevin', 'moon', 'originally', 'pulled', 'superman', 'worlds', 'lowbudget', 'months', 'starting', 'taylor', 'terribly', 'understanding', 'dressed', 'european', 'explained', 'keeping', 'kinda', 'manage', 'reviewers', 'treated', 'whilst', 'adam', 'finest', 'hits', 'jesus', 'memories', 'mixed', 'numerous', 'radio', 'judge', 'knowledge', 'loving', 'prince', 'tarzan', '50', 'issue', 'lacking', 'officer', 'player', 'delightful', 'pop', 'private', 'unfunny', 'bland', 'deserved', 'discover', 'eat', 'fat', 'horse', 'jackson', 'prove', 'sucks', 'vhs', 'floor', 'forces', 'loose', 'price', 'screaming', 'whenever', 'field', 'included', 'japan', 'loss', 'ordinary', 'pretentious', 'psychological', 'regular', 'sign', 'streets', 'witty', 'broken', 'drunk', 'heroine', 'jean', 'opposite', 'peoples', 'spanish', 'cable', 'conflict', 'dated', 'driving', 'empty', 'humanity', 'loses', 'portray', 'weve', 'bright', 'mike', 'noticed', 'opens', 'skills', 'bigger', 'cuts', 'gene', 'locations', 'aware', 'breaks', 'cage', 'calls', 'discovered', 'talents', 'continues', 'deals', 'international', 'partner', 'saving', 'wind', 'blonde', 'captured', 'dealing', 'heres', 'humorous', 'mine', 'morning', 'ball', 'c', 'fate', 'length', 'scream', 'theyve', 'visit', 'werewolf', 'youth', 'connection', 'curious', 'gags', 'gold', 'magnificent', 'plots', 'soap', 'traditional', 'concerned', 'current', 'genuine', 'golden', 'miles', 'nonsense', 'perspective', 'received', 'results', 'rubbish', 'advice', 'allows', 'debut', 'murdered', 'naturally', 'realism', 'shallow', 'learned', 'satire', 'sing', 'versions', 'below', 'genuinely', 'kate', 'occasionally', 'behavior', '1950s', '90s', 'bank', 'blind', 'bob', 'grew', 'jimmy', 'kong', 'lesson', 'proved', 'context', 'fathers', 'mission', 'national', 'revealed', 'stock', 'anthony', 'cameo', 'corny', 'essentially', 'sheer', 'ultimate', 'visuals', 'morgan', 'mrs', 'santa', 'sean', 'unable', 'unexpected', 'vampires', 'washington', 'develop', 'favor', 'formula', 'remembered', 'shop', 'underrated', 'frankly', 'owner', 'steal', 'visually', 'ages', 'efforts', 'finale', 'ford', 'luck', 'reach', 'study', 'albert', 'cross', 'decade', 'gonna', 'harris', 'identity', 'jennifer', 'keaton', 'references', 'sea', 'sudden', 'village', 'window', 'awkward', 'discovers', 'passed', 'program', 'segment', 'strength', 'survive', 'brilliantly', 'crappy', 'desert', 'gary', 'singer', 'spectacular', 'wise', 'awards', 'candy', 'existence', 'gangster', 'logic', 'majority', 'sake', 'welles', 'ann', 'board', 'delivered', 'ice', 'leader', 'sisters', 'types', 'bet', 'creates', 'flashbacks', 'reaction', 'standing', 'stereotypes', 'caused', 'insane', 'lake', 'relate', 'utter', 'daughters', 'grant', 'graphic', 'gratuitous', 'meeting', 'pair', 'ran', 'rob', 'sucked', 'trek', 'boat', 'dreadful', 'emotionally', 'foreign', 'lucky', 'painfully', 'relief', 'speed', 'edited', 'families', 'fault', 'practically', 'travel', 'author', 'described', 'devil', 'eric', 'freedom', 'pleasant', 'decision', 'endless', 'failure', 'reviewer', 'robin', 'site', 'technology', 'ancient', 'assume', 'combination', 'comparison', 'native', 'overly', 'portrays', 'seasons', 'aka', 'anime', 'attitude', 'feet', 'president', 'rules', 'test', 'thomas', 'hearing', 'proper', 'treatment', 'vehicle', 'asking', 'choose', 'commercial', 'dan', 'eating', 'foot', 'parody', 'portraying', 'range', 'sell', 'stopped', 'twenty', 'wide', 'bear', 'believes', 'brown', 'capable', 'chosen', 'executed', 'howard', 'laughter', 'learns', 'marry', 'simon', 'steven', 'uk', 'buddy', 'classics', 'excited', 'fill', 'gory', 'involves', 'largely', 'tape', 'barbara', 'evening', 'grow', 'hitler', 'lynch', 'produce', 'recall', 'wood', 'broadway', 'product', 'religion', 'wit', 'anna', 'center', 'contrived', 'entertained', 'levels', 'luke', 'sheriff', 'unrealistic', '50s', 'clue', 'drew', 'halloween', 'kick', 'model', 'round', 'ruined', 'theaters', 'theatrical', 'contrast', 'costs', 'depressing', 'haunting', 'irritating', 'rescue', 'sequels', 'strongly', 'appealing', 'built', 'claim', 'handsome', 'suffering', 'd', 'destroy', 'heck', 'individual', 'research', 'sports', 'sympathetic', 'appropriate', 'captures', 'clean', 'disgusting', 'embarrassing', 'extras', 'generation', 'hill', 'protagonist', 'r', 'rise', 'rose', 'shakespeare', 'talks', '1010', 'dry', 'evidence', 'facts', 'fame', 'losing', 'tend', 'chick', 'parker', 'post', 'victor', 'asian', 'bringing', 'cares', 'chief', 'daniel', 'football', 'grown', 'hanging', 'hunter', 'joseph', 'matters', 'naive', 'voices', 'woody', '11', 'costume', 'exploitation', 'horribly', 'nevertheless', 'relatively', 'roy', 'scare', 'thoughts', 'training', 'walks', 'canadian', 'convinced', 'correct', 'creatures', 'fits', 'france', 'freddy', 'haunted', 'matt', 'obsessed', 'priest', 'spoil', 'steals', 'virtually', 'frame', 'insult', 'mask', 'promise', 'safe', 'teenagers', 'bomb', 'cost', 'crowd', 'dogs', 'excitement', 'fly', 'saturday', 'teenager', 'vote', 'cash', 'depicted', 'dubbed', 'halfway', 'initial', 'lousy', 'pity', 'remain', 'satisfying', 'send', '1970s', 'alex', 'amateurish', 'patrick', 'ryan', 'till', 'angel', 'contemporary', 'europe', 'germany', 'gordon', 'hide', 'holding', 'influence', 'louis', 'lower', 'psycho', 'soft', 'tedious', 'texas', 'tiny', 'united', 'winner', 'asleep', 'bodies', 'circumstances', 'cowboy', 'jackie', 'nominated', 'substance', 'unfortunate', 'unlikely', 'baseball', 'danger', 'flesh', 'hopefully', 'lewis', 'oliver', 'presents', 'touches', 'weekend', 'australian', 'closer', 'continuity', 'drag', 'lawyer', 'marie', 'max', 'provided', 'serves', 'trilogy', 'viewed', 'walter', 'witness', 'amateur', 'cartoons', 'f', 'fool', 'handled', 'meanwhile', 'suffers', 'brave', 'category', 'chose', 'cinderella', 'fare', 'nancy', 'plans', 'refreshing', 'repeated', 'reporter', 'ruin', 'shocked', 'sons', 'source', 'structure', 'surreal', 'weeks', 'accidentally', 'africa', 'display', 'fu', 'hunt', 'latest', 'offensive', 'pile', 'politics', 'seat', 'supernatural', 'angles', 'claims', 'deaths', 'market', 'north', 'overthetop', 'promising', 'roger', 'studios', 'warm', 'wayne', 'anne', 'bugs', 'colors', 'previously', 'qualities', 'realizes', 'robot', 's', 'speaks', 'surprises', 'target', 'accents', 'adventures', 'convince', 'deadly', 'experiences', 'factor', 'harsh', 'storytelling', 'artists', 'covered', 'designed', 'believed', 'draw', 'hall', 'lesbian', 'recognize', 'service', 'skin', 'speech', 'wouldve', 'degree', 'highlight', 'mainstream', 'movement', 'professor', 'rental', 'welcome', 'columbo', 'hat', 'mistakes', 'occasional', 'propaganda', 'routine', 'sinatra', 'uninteresting', 'victoria', 'aliens', 'directly', 'guilty', 'magical', 'minds', 'rain', 'struggling', 'twisted', 'universal', 'walked', 'breaking', 'combined', 'downright', 'explains', 'focused', 'friday', 'invisible', 'kinds', 'massive', 'nude', 'veteran', 'committed', 'edward', 'inner', 'paper', 'princess', 'print', 'section', 'sympathy', 'teens', 'ass', 'moore', 'narration', 'offered', 'remotely', 'enemy', 'experienced', 'express', 'featured', 'gritty', 'irish', 'j', 'multiple', 'peace', 'prime', 'sorts', 'suspenseful', 'treasure', '1980s', 'atrocious', 'execution', 'frightening', 'insight', 'kim', 'legendary', 'lonely', 'regret', 'reveal', 'sharp', 'spends', 'universe', 'whoever', '25', 'abuse', 'dollars', 'exact', 'figured', 'figures', 'hong', 'performed', 'reputation', 'variety', 'anger', 'birth', 'bothered', 'false', 'fictional', 'forgettable', 'passing', 'path', 'prior', 'rings', 'stolen', 'surface', 'abandoned', 'conversation', 'core', 'crash', 'crying', 'darkness', 'dozen', 'enter', 'fairy', 'forest', 'ghosts', 'hired', 'pulls', 'spy', 'subtitles', 'theory', 'anderson', 'donald', 'erotic', 'granted', 'melodrama', 'paced', 'paint', 'required', 'reveals', 'russell', 'security', 'statement', 'blow', 'cutting', 'drop', 'effectively', 'hed', 'mountain', 'powell', 'significant', 'stayed', 'stays', 'terror', 'trapped', 'urban', 'wilson', 'crude', 'demons', 'eight', 'gas', 'paying', 'slapstick', 'worthwhile', 'buying', 'focuses', 'grim', 'mere', 'proud', 'rights', 'von', 'account', 'african', 'beach', 'grave', 'lights', 'mgm', 'necessarily', 'quest', 'spite', 'wear', 'delivery', 'forth', 'heavily', 'jobs', 'listening', 'scale', 'scares', 'unconvincing', '13', '14', '1930s', 'afternoon', 'amazed', 'andor', 'clichéd', 'department', 'destroyed', 'emma', 'everywhere', 'network', 'sir', 'bmovie', 'bus', 'caine', 'childrens', 'cruel', 'desperately', 'driven', 'facial', 'favorites', 'imagery', 'metal', 'rule', 'scenario', 'vietnam', 'belief', 'changing', 'dean', 'device', 'fabulous', 'faithful', 'flashback', 'idiot', 'julia', 'junk', 'matrix', 'mature', 'position', 'reminiscent', 'skill', 'sounded', 'titanic', 'aint', 'blockbuster', 'clark', 'closing', 'code', 'extraordinary', 'forgot', 'mexican', 'mothers', 'murphy', 'novels', 'placed', 'revolution', 'sensitive', 'settings', 'suffer', 'angle', 'beloved', 'california', 'campy', 'deeper', 'driver', 'greater', 'happiness', 'interview', 'jon', 'lifetime', 'musicals', 'ron', 'stereotypical', 'views', 'achieve', 'beast', 'court', 'criminals', 'dude', 'helping', 'ignore', 'inept', 'notorious', 'pitt', 'prefer', 'renting', 'san', 'sleeping', 'sunday', 'understood', 'alright', 'amazingly', 'bourne', 'depiction', 'league', 'learning', 'mexico', 'pregnant', 'rolling', 'seek', 'sitcom', 'teeth', 'blah', 'bore', 'breathtaking', 'convey', 'couldve', 'examples', 'jungle', 'raw', 'china', 'dennis', 'disbelief', 'encounter', 'entertain', 'format', 'lisa', 'midnight', 'picks', 'purely', 'table', 'answers', 'complicated', 'critical', 'cultural', 'decades', 'description', 'expert', 'fourth', 'indie', 'initially', 'kung', 'mildly', 'murderer', 'prepared', 'quirky', 'rough', 'starred', 'summary', 'appreciated', 'calling', 'dragon', 'drinking', 'friendly', 'join', 'julie', 'pacino', 'productions', 'rip', 'sarah', 'serve', 'status', 'throwing', 'throws', 'touched', 'underground', 'basis', 'burns', 'carries', 'comical', 'everyday', 'expression', 'funnier', 'honor', 'regarding', 'subplot', 'via', 'alice', 'arms', 'base', 'blown', 'freeman', 'introduction', 'ned', 'protect', 'raised', 'succeeds', 'task', 'bollywood', 'caring', 'criticism', 'dress', 'extent', 'fallen', 'intellectual', 'kiss', 'larry', 'leslie', 'suck', 'susan', 'thankfully', 'wears', 'brad', 'brooks', 'cabin', 'carried', 'carrying', 'causes', 'environment', 'flight', 'inspiration', 'moviethe', 'racist', 'raise', 'regard', 'shadow', 'truck', 'usa', 'attempting', 'cases', 'cell', 'challenge', 'charge', 'choices', 'embarrassed', 'foster', 'handle', 'lazy', 'notable', 'originality', 'praise', 'protagonists', 'rachel', 'ripoff', 'socalled', 'sword', 'tales', 'ted', 'enjoying', 'itthe', 'johnson', 'ludicrous', 'related', 'sinister', 'spoof', 'warned', 'weapons', 'writerdirector', 'adding', 'angels', 'breath', 'determined', 'experiment', 'gruesome', 'hoffman', 'ironic', 'locked', 'maria', 'properly', 'replaced', 'rogers', 'shut', 'southern', 'turkey', 'amongst', 'aunt', 'daily', 'escapes', 'interpretation', 'lie', 'nowadays', 'obnoxious', 'pet', 'screening', 'sun', 'westerns', 'wins', 'bbc', 'blair', 'clips', 'interviews', 'jail', 'obsession', 'remote', 'sleazy', 'tradition', 'x', 'arrives', 'chilling', 'essential', 'exists', 'hardy', 'jumps', 'reference', 'scripts', 'served', 'sold', 'strangely', 'tight', 'u', 'wave', 'attacked', 'burt', 'claire', 'contain', 'elizabeth', 'lugosi', 'navy', 'punch', 'remind', 'st', 'stops', 'trick', 'warner', 'ashamed', 'dollar', 'established', 'frequently', 'goofy', 'graphics', 'hills', 'hitchcock', 'jessica', 'laura', 'marvelous', 'michelle', 'successfully', 'timing', '810', 'authentic', 'balance', 'drives', 'flawed', 'flow', 'india', 'jewish', 'nonexistent', 'o', 'oscars', 'refuses', 'revolves', 'rival', 'sum', 'term', 'busy', 'legs', 'manager', 'mentally', 'mindless', 'mirror', 'risk', 'struggles', 'stylish', 'upset', 'warn', 'albeit', 'che', 'comedian', 'delight', 'greatly', 'hence', 'hood', 'horrific', 'intensity', 'nation', 'overcome', 'par', 'shower', 'sides', 'sidney', 'suspects', 'titles', 'tree', 'attacks', 'bridge', 'cynical', 'gods', 'guard', 'inspector', 'intentions', 'lane', 'lesser', 'mansion', 'mob', 'poignant', 'retarded', 'riding', 'roberts', 'spoken', 'stanley', 'stomach', 'tense', 'toy', 'wishes', 'andrews', 'bitter', 'buck', 'controversial', 'expressions', 'fbi', 'lion', 'madness', 'presentation', 'topic', 'wealthy', 'bette', 'confusion', 'cooper', 'demon', 'glimpse', 'husbands', 'medical', 'personalities', 'philip', 'stranger', 'stupidity', 'suffered', 'technically', 'thousands', 'thrilling', 'vacation', 'wasting', '30s', 'alas', 'bound', 'chan', 'dinner', 'eg', 'guessing', 'hundreds', 'internet', 'opened', 'pride', 'ratings', 'scientists', 'storm', 'adapted', 'advantage', 'broke', 'chair', 'corner', 'courage', 'dislike', 'happily', 'hint', 'holmes', 'lessons', 'mass', 'nazi', 'patient', 'perform', 'seeking', 'separate', 'shines', 'shorts', 'text', 'uncomfortable', 'chases', 'contact', 'countries', 'filmthe', 'gross', 'infamous', 'miscast', 'needless', 'performers', 'sings', 'trite', '2006', 'atmospheric', 'credibility', 'credible', 'dubbing', 'east', 'horses', 'innocence', 'letting', 'mouse', 'physically', 'reed', 'rocks', 'shape', 'suggests', 'thief', 'trial', '1960s', 'cameos', 'consists', 'cook', 'elvis', 'glass', 'gripping', 'hole', 'hundred', 'jay', 'lucy', 'millions', 'noble', 'reunion', 'sexuality', 'tied', 'tracy', 'whereas', 'womans', '110', '2000', 'crisis', 'curse', 'develops', 'ensemble', 'lovable', 'miller', 'pool', 'portrait', 'sin', 'steps', 'technique', 'troubled', 'bears', 'concert', 'enjoyment', 'holiday', 'idiotic', 'lying', 'noted', 'oneliners', 'racism', 'saves', '710', 'accepted', 'bo', 'catholic', 'drink', 'exceptional', 'gain', 'grey', 'hanks', 'meaningful', 'neat', 'oddly', 'plastic', 'proof', 'screenwriter', 'sentimental', 'stretch', 'torn', 'weapon', 'wwii', 'attraction', 'belongs', 'bettie', 'connected', 'dialogs', 'dig', 'entry', 'fish', 'franchise', 'hiding', 'host', 'imaginative', 'searching', 'shed', 'thrillers', 'unforgettable', 'vincent', 'aired', 'annoyed', 'card', 'christ', 'concerns', 'flaw', 'helen', 'hoped', 'kurt', 'lincoln', 'ralph', 'sends', 'solve', 'spots', 'achieved', 'appearances', 'arm', 'assistant', 'closely', 'endearing', 'fortunately', 'guts', 'irony', 'nine', 'nonetheless', 'object', 'repeat', 'sandler', 'succeed', 'virgin', 'worry', 'aged', 'andrew', 'bag', 'battles', 'cousin', 'crimes', 'dealt', 'eerie', 'encounters', 'equal', 'fortune', 'hearts', 'homeless', 'n', 'profound', 'redemption', 'striking', 'checking', 'colorful', 'complaint', 'covers', 'dentist', 'dragged', 'factory', 'h', 'ha', 'hunting', 'italy', 'library', 'neighborhood', 'nights', 'oil', 'ourselves', 'persons', 'quote', 'segments', 'snow', 'sutherland', 'teach', 'tribute', 'tune', 'videos', 'bat', 'believing', 'bucks', 'civil', 'essence', 'hang', 'hooked', 'jake', 'lucas', 'miniseries', 'nelson', 'pointed', 'slight', 'widmark', 'baker', 'charisma', 'cheese', 'countless', 'expensive', 'glory', 'hamlet', 'knife', 'laid', 'mst3k', 'pack', 'pat', 'rush', 'shoots', 'split', 'stanwyck', 'strikes', 'thousand', 'tour', '1st', 'appearing', 'attempted', 'charismatic', 'colour', 'competent', 'condition', 'cube', 'dancer', 'dare', 'dear', 'dorothy', 'health', 'incoherent', 'pitch', 'spending', 'stood', 'surrounded', 'surrounding', 'workers', 'zone', '18', '2001', 'aforementioned', 'attached', 'catherine', 'chances', 'chasing', 'crafted', 'grows', 'horrendous', 'intention', 'lloyd', 'massacre', 'ripped', 'shall', 'specific', 'stealing', 'stronger', 'terrifying', 'theyd', 'unintentionally', '80', 'associated', 'curtis', 'easier', 'fx', 'hip', 'individuals', 'iti', 'messages', 'reactions', 'rochester', 'rushed', 'seagal', 'setup', 'stunts', 'trade', 'arnold', 'beating', 'birthday', 'burning', 'creators', 'elsewhere', 'magazine', 'month', 'moviei', 'perfection', 'requires', 'sexually', 'sullivan', 'tons', 'tricks', 'university', 'wing', 'corrupt', 'drags', 'dropped', 'forgive', 'gag', 'gift', 'goal', 'guest', 'guilt', 'homage', 'identify', 'increasingly', 'matthau', 'noise', 'nose', 'revelation', 'silver', 'stated', 'stunt', 'wake', 'allowing', 'boredom', 'camerawork', 'cardboard', 'cats', 'dawn', 'dramas', 'exercise', 'fired', 'importance', 'jeremy', 'kings', 'le', 'neck', 'overrated', 'per', 'represents', 'spike', 'stan', 'strictly', 'vague', 'wanna', '17', 'briefly', 'commit', 'contract', 'enters', 'faced', 'fitting', 'gotta', 'hype', 'importantly', 'instantly', 'kane', 'kicks', 'kidnapped', 'killings', 'loser', 'medium', 'painting', 'performing', 'reynolds', 't', 'virus', 'walls', 'weight', '24', 'barry', 'basement', 'branagh', 'carefully', 'chuck', 'disagree', 'fifteen', 'godfather', 'gothic', 'handful', 'horrors', 'pie', 'pushed', 'row', 'sophisticated', 'techniques', 'winter', 'bobby', 'brand', 'chaplin', 'denzel', 'doors', 'ian', 'letter', 'mustsee', 'notch', 'nuclear', 'packed', 'partly', 'plague', 'pleased', 'presumably', 'realise', 'reallife', 'relevant', 'shining', 'typically', 'wonders', '45', 'acceptable', 'admire', 'britain', 'comics', 'continued', 'flash', 'frustrated', 'heat', 'hitting', 'hudson', 'jesse', 'korean', 'marks', 'occurs', 'overlooked', 'persona', 'pleasantly', 'resolution', 'silence', 'superhero', 'talked', 'toilet', 'tremendous', 'wondered', 'arrested', 'boll', 'breasts', 'bride', 'buried', 'competition', 'destruction', 'evident', 'executive', 'fears', 'iii', 'inevitable', 'lab', 'listed', 'prevent', 'secretary', 'strip', 'thumbs', 'worthless', '40s', 'accused', 'admittedly', 'attracted', 'beings', 'bible', 'boxing', 'brando', 'bullets', 'bush', 'canada', 'derek', 'digital', 'estate', 'eva', 'fatal', 'flawless', 'guide', 'investigation', 'larger', 'masters', 'opposed', 'press', 'projects', 'shy', 'spell', 'stiff', 'strike', 'subplots', 'superbly', 'appalling', 'brilliance', 'carol', 'citizen', 'closeups', 'clues', 'creation', 'directorial', 'jumping', 'los', 'luckily', 'menacing', 'mild', 'nazis', 'outrageous', 'planning', 'returning', 'root', 'sally', 'someones', 'spiritual', 'splendid', 'struck', 'union', 'walken', '2005', '3d', 'afterwards', 'ambitious', 'cup', 'doc', 'dvds', 'genres', 'glover', 'inspiring', 'jamie', 'lacked', 'logical', 'mafia', 'precious', 'relative', 'remaining', 'revealing', 'slightest', 'sole', 'subsequent', 'suits', 'thrills', 'uninspired', 'useless', '911', 'aimed', 'blob', 'characterization', 'con', 'convoluted', 'curiosity', 'depression', 'dire', 'documentaries', 'elderly', 'francisco', 'hire', 'installment', 'melodramatic', 'morality', 'neighbor', 'notably', 'picking', 'pulling', 'raped', 'reasonably', 'repetitive', 'savage', 'souls', 'spooky', 'twin', 'ward', 'watches', 'accomplished', 'achievement', 'border', 'burn', 'cared', 'cia', 'conspiracy', 'cox', 'draws', 'drunken', 'duke', 'failing', 'generous', 'insulting', 'intrigued', 'jerk', 'minimal', 'non', 'notes', 'overdone', 'photographed', 'poverty', 'providing', 'push', 'repeatedly', 'response', 'rid', 'screams', 'smooth', 'spoiled', 'territory', 'theyll', 'ticket', 'wannabe', 'wes', 'wicked', '20th', '310', 'adams', 'alike', 'bleak', 'blows', 'corpse', 'darker', 'distant', 'explore', 'flynn', 'forbidden', 'futuristic', 'hatred', 'heston', 'jealous', 'karloff', 'ken', 'mid', 'mile', 'psychiatrist', 'reduced', 'samurai', 'shadows', 'streisand', 'tea', 'timeless', 'argument', 'captivating', 'goldberg', 'intent', 'laurel', 'loosely', 'manhattan', 'meat', 'mel', 'nurse', 'outcome', 'piano', 'reasonable', 'ritter', 'shell', 'spring', 'sticks', 'tall', 'thirty', 'timothy', 'wells', 'absence', 'beaten', 'burton', 'definite', 'doctors', 'elaborate', 'em', 'emily', 'gentle', 'gradually', 'grandmother', 'highlights', 'ignored', 'improved', 'misses', 'mitchell', 'motivation', 'obscure', 'rap', 'trap', 'unbelievably', '910', 'ad', 'beer', 'carpenter', 'childish', 'cole', 'concerning', 'connect', 'cried', 'cruise', 'davies', 'discussion', 'disease', 'et', 'explicit', 'farce', 'huh', 'indians', 'miserably', 'psychotic', 'pushing', 'resembles', 'shoes', 'spielberg', 'stole', 'tortured', 'tunes', 'affected', 'blend', 'brazil', 'builds', 'cameras', 'complain', 'dancers', 'displays', 'exaggerated', 'extended', 'fancy', 'hardcore', 'horrid', 'knock', 'liberal', 'neil', 'norman', 'ranks', 'reached', 'regardless', 'returned', 'shortly', 'sloppy', 'spin', 'spirits', 'string', 'temple', 'threat', 'throat', 'turner', 'vicious', 'warrior', 'worried', 'alltime', 'arrive', 'consequences', 'craig', 'danes', 'demands', 'distance', 'enjoys', 'eve', 'fisher', 'houses', 'idiots', 'monkey', 'ought', 'pretend', 'prom', 'purple', 'sacrifice', 'shark', 'subjects', 'swedish', 'threw', 'waters', 'website', 'wreck', 'alexander', 'blank', 'broad', 'carter', 'currently', 'dave', 'diamond', 'drivel', 'duo', 'elvira', 'eyre', 'farm', 'harder', 'hysterical', 'lou', 'overacting', 'photographer', 'poster', 'receive', 'restaurant', 'ridiculously', 'smoking', 'sunshine', 'triumph', 'annie', 'areas', 'argue', 'australia', 'beats', 'burned', 'conversations', 'drawing', 'dynamic', 'groups', 'landscape', 'modesty', 'movements', 'officers', 'progress', 'size', '410', 'brains', 'broadcast', 'buddies', 'comfortable', 'commercials', 'daring', 'devoted', 'differences', 'dignity', 'empire', 'engaged', 'exposed', 'fay', 'fever', 'glenn', 'heroic', 'incident', 'investigate', 'involvement', 'ironically', 'load', 'matthew', 'murderous', 'popcorn', 'robots', 'ruth', 'scientific', 'scripted', 'selfish', 'selling', 'smoke', 'staying', 'styles', 'trio', 'upper', 'aging', 'bands', 'couples', 'critic', 'cusack', 'dinosaurs', 'escaped', 'existed', 'hollow', 'ireland', 'jet', 'kenneth', 'kitchen', 'kudos', 'machines', 'mountains', 'newspaper', 'occur', 'offering', 'orders', 'panic', 'proceedings', 'producing', 'recognized', 'rural', 'superficial', 'swear', 'symbolism', 'threatening', 'titled', 'vivid', 'warren', '60', 'apes', 'bathroom', 'bite', 'block', 'brosnan', 'cagney', 'carrey', 'choreography', 'contrary', 'deliberately', 'detailed', 'discovery', 'ex', 'explaining', 'greek', 'innovative', 'journalist', 'lily', 'lips', 'merit', 'rage', 'secrets', 'tame', 'translation', 'uneven', 'winters', '2004', '2nd', 'adequate', 'birds', 'causing', 'dawson', 'editor', 'felix', 'folk', 'gray', 'hollywoods', 'holy', 'imagined', 'ingredients', 'intrigue', 'juvenile', 'lighthearted', 'mate', 'nearby', 'occurred', 'possibility', 'relies', 'removed', 'signs', 'soviet', 'staff', 'thugs', 'unbearable', 'unpleasant', 'versus', 'wealth', 'web', '16', '2003', 'abc', 'abilities', 'astaire', 'audio', 'bell', 'catches', 'chain', 'combat', 'conventional', 'craft', 'damage', 'defeat', 'focusing', 'generic', 'grab', 'joey', 'maker', 'margaret', 'meaningless', 'mildred', 'nightmares', 'onscreen', 'overwhelming', 'pays', 'population', 'primary', 'resemblance', 'sadistic', 'sadness', 'sidekick', 'travels', 'bin', 'composed', 'dialogues', 'discuss', 'disturbed', 'eccentric', 'explosion', 'flies', 'headed', 'hugh', 'hurts', 'implausible', 'itll', 'lawrence', 'lifestyle', 'narrator', 'passes', 'perry', 'portion', 'pulp', 'ships', 'stiller', 'trees', 'twelve', 'afford', 'antics', 'atlantis', 'backdrop', 'banned', 'chaos', 'clothing', 'clumsy', 'devoid', 'dozens', 'dracula', 'enormous', 'exotic', 'explored', 'falk', 'financial', 'giallo', 'glorious', 'hates', 'highest', 'hitman', 'kirk', 'leg', 'liking', 'official', 'primarily', 'react', 'settle', 'thrill', 'unintentional', 'winds', '1990s', '2002', 'beneath', 'bird', 'blatant', 'cameron', 'clint', 'coherent', 'consistently', 'decisions', 'doomed', 'fond', 'g', 'kapoor', 'karen', 'maggie', 'mixture', 'models', 'reaches', 'remarkably', 'represent', 'roman', 'scheme', 'shine', 'smaller', 'survival', 'surviving', 'undoubtedly', 'urge', 'w', 'altogether', 'bold', 'careers', 'carl', 'cheating', 'clown', 'describes', 'disc', 'disjointed', 'distracting', 'dutch', 'errors', 'fighter', 'hints', 'jeffrey', 'mickey', 'mistaken', 'neighbors', 'notion', 'odds', 'outer', 'rank', 'slap', 'unwatchable', 'advance', 'bedroom', 'benefit', 'blew', 'brady', 'brooklyn', 'butt', 'contained', 'dances', 'dating', 'desperation', 'directs', 'drops', 'everyones', 'freak', 'gangsters', 'garden', 'heartwarming', 'hideous', 'ideal', 'impress', 'influenced', 'instant', 'kennedy', 'monkeys', 'offended', 'possessed', 'props', 'richards', 'senseless', 'seventies', 'spare', 'sport', 'survivors', 'tap', 'thick', 'topless', 'trailers', 'uwe', 'vast', 'whale', 'yesterday', '0', '3rd', 'adorable', 'april', 'awake', 'backgrounds', 'classes', 'commented', 'countryside', 'cuba', 'dedicated', 'ego', 'explosions', 'flop', 'florida', 'frustration', 'gandhi', 'guessed', 'introduces', 'jazz', 'lasted', 'linda', 'loads', 'matches', 'montage', 'performer', 'rebel', 'relations', 'revolutionary', 'simplistic', 'specifically', 'stellar', 'tear', 'ties', 'tommy', 'toys', 'ups', 'voight', 'walker', 'wallace', 'weakest', 'wolf', 'arrogant', 'bare', 'claimed', 'coffee', 'crush', 'depressed', 'developing', 'doll', 'emphasis', 'forms', 'hal', 'hammer', 'honesty', 'illogical', 'immensely', 'involve', 'judging', 'justify', 'miserable', 'motives', 'mysteries', 'occasion', 'passionate', 'philosophy', 'politically', 'practice', 'principal', 'rambo', 'rooms', 'ruthless', 'saga', 'satan', 'sellers', 'shelf', 'soccer', 'subtlety', 'succeeded', 'suited', 'tender', 'unfolds', 'amy', 'angeles', 'avoided', 'bone', 'cary', 'chorus', 'circle', 'command', 'considerable', 'destiny', 'disappear', 'disappeared', 'edie', 'endings', 'endure', 'funeral', 'hank', 'interaction', 'kicked', 'leonard', 'link', 'loyal', 'lust', 'measure', 'melting', 'outfit', 'planned', 'recorded', 'severe', 'similarities', 'solely', 'staged', 'stress', 'tad', 'tracks', 'transformation', 'trashy', 'agrees', 'aid', 'authority', 'blake', 'blues', 'buffs', 'cards', 'chased', 'companion', 'consistent', 'corruption', 'cure', 'displayed', 'ease', 'eastwood', 'facing', 'hamilton', 'isolated', 'menace', 'method', 'paulie', 'peters', 'photos', 'quotes', 'realizing', 'stereotype', 'synopsis', 'thoughtful', 'todd', 'traveling', 'treats', 'wore', 'wrestling', '1999', 'anyways', 'celluloid', 'divorce', 'dolls', 'eighties', 'embarrassment', 'enemies', 'formulaic', 'ginger', 'goodness', 'grasp', 'hbo', 'helicopter', 'inventive', 'jonathan', 'kidding', 'lyrics', 'madefortv', 'orson', 'possibilities', 'preview', 'purchase', 'report', 'represented', 'riveting', 'satisfied', 'sits', 'surfing', 'swimming', 'switch', 'taught', 'waited', 'yellow', 'behave', 'carrie', 'celebrity', 'cg', 'cliff', 'colonel', 'comparing', 'defend', 'delivering', 'dickens', 'donna', 'duty', 'e', 'ears', 'enterprise', 'handed', 'harvey', 'holly', 'hunters', 'improve', 'march', 'moody', 'myers', 'nervous', 'onedimensional', 'promised', 'relation', 'rick', 'snl', 'tongue', 'unsettling', 'vegas', 'voiceover', 'widow', 'wished', '1980', '1996', 'blond', 'bonus', 'buff', 'buildings', 'chess', 'closet', 'combine', 'crack', 'diane', 'disappoint', 'fix', 'godzilla', 'hook', 'horrifying', 'ignorant', 'judy', 'lemmon', 'oz', 'pages', 'parent', 'philosophical', 'prostitute', 'reads', 'shirley', 'solo', 'stinker', 'suitable', 'terrorist', 'unhappy', 'user', 'valuable', 'waves', 'wives', 'affect', 'agents', 'artificial', 'blacks', 'closest', 'conflicts', 'corporate', 'destroying', 'education', 'elegant', 'ellen', 'engage', 'faster', 'global', 'hart', 'humble', 'inane', 'kingdom', 'l', 'maintain', 'mario', 'online', 'painted', 'reflect', 'sappy', 'scores', 'scottish', 'snake', 'stooges', 'thru', 'tonight', 'abysmal', 'access', 'airplane', 'amanda', 'armed', 'centers', 'charlotte', 'coach', 'earned', 'fooled', 'furthermore', 'germans', 'lately', 'letters', 'miracle', 'motivations', 'museum', 'plant', 'potentially', 'pretending', 'questionable', 'racial', 'reaching', 'remarks', 'rotten', 'safety', 'scope', 'secretly', 'seed', 'sentence', 'shake', 'similarly', 'slave', 'staring', 'stevens', 'stinks', 'transfer', 'understandable', 'useful', 'wed', 'advise', 'airport', 'alcoholic', 'alongside', 'americas', 'amounts', 'blade', 'blunt', 'brutally', 'bullet', 'civilization', 'communist', 'concern', 'depicts', 'dinosaur', 'dub', 'elephant', 'exploration', 'faults', 'filmi', 'finger', 'francis', 'guarantee', 'hung', 'inferior', 'intentionally', 'iron', 'jumped', 'lay', 'miike', 'nicholson', 'nostalgic', 'poetic', 'provoking', 'purchased', 'rex', 'rocket', 'scarecrow', 'survived', 'tiresome', 'trained', 'virginia', 'wandering', 'wet', 'yelling', 'abusive', 'advanced', 'arguably', 'arrived', 'bath', 'beliefs', 'campbell', 'channels', 'cleverly', 'confidence', 'convincingly', 'diana', 'edgar', 'floating', 'greedy', 'grinch', 'homosexual', 'illegal', 'joined', 'lees', 'lengthy', 'mini', 'namely', 'nomination', 'patients', 'pig', 'plight', 'porno', 'proceeds', 'punk', 'rendition', 'rising', 'robbery', 'showcase', 'slick', 'splatter', 'spoke', 'steel', 'terry', 'tie', 'troops', 'understated', 'vulnerable', 'willis', 'wizard', 'womens', '2007', '3000', '70', 'advertising', 'agreed', 'ah', 'ape', 'attitudes', 'ballet', 'balls', 'beatty', 'bottle', 'cake', 'carradine', 'cinematographer', 'construction', 'designs', 'dimensional', 'downhill', 'familys', 'fascinated', 'gadget', 'lena', 'm', 'mall', 'nonstop', 'pokemon', 'relatives', 'resort', 'september', 'species', 'spread', 'stilted', 'streep', 'sub', 'visits', 'wrapped', '1940s', '1972', 'aids', 'babe', 'berlin', 'capturing', 'careful', 'catchy', 'cave', 'chicago', 'christians', 'cities', 'classical', 'compelled', 'complexity', 'copies', 'damon', 'demented', 'disneys', 'foul', 'frequent', 'heartbreaking', 'hopper', 'intimate', 'june', 'latin', 'limits', 'lit', 'lowest', 'macy', 'morris', 'niro', 'nyc', 'pops', 'recognition', 'ruby', 'sandra', 'satisfy', 'shirt', 'simplicity', 'taxi', 'transition', 'witches', 'worker', 'wound', '1990', 'accompanied', 'akshay', 'alternate', 'bang', 'challenging', 'cheated', 'chicks', 'cinemas', 'devils', 'dreary', 'eager', 'edition', 'equivalent', 'ethan', 'exceptionally', 'fonda', 'grandfather', 'hilariously', 'illness', 'inappropriate', 'jenny', 'junior', 'khan', 'li', 'lively', 'lone', 'losers', 'madonna', 'manipulative', 'mars', 'mundane', 'opinions', 'parallel', 'prequel', 'prisoner', 'raising', 'robinson', 'sue', 'tends', '1968', 'awe', 'boot', 'capital', 'chest', 'chooses', 'choreographed', 'crucial', 'daddy', 'del', 'demand', 'der', 'eaten', 'georges', 'gundam', 'homer', 'incomprehensible', 'misery', 'molly', 'montana', 'nonsensical', 'nostalgia', 'ocean', 'olivier', 'opportunities', 'overlook', 'paltrow', 'pearl', 'poetry', 'prisoners', 'pursuit', 'rat', 'schools', 'scooby', 'seeks', 'smiling', 'suspicious', 'tomatoes', 'twilight', 'v', 'wellknown', 'widely', 'wishing', 'witnesses', 'writes', '210', 'appreciation', 'awfully', 'bakshi', 'basketball', 'belong', 'blowing', 'bumbling', 'calm', 'conservative', 'constructed', 'crocodile', 'da', 'dalton', 'desired', 'domestic', 'elm', 'enthusiasm', 'excessive', 'experiments', 'incompetent', 'invasion', 'kicking', 'laws', 'legal', 'likewise', 'literature', 'lol', 'messed', 'methods', 'nations', 'nicholas', 'paranoia', 'performs', 'phantom', 'plausible', 'prize', 'progresses', 'remakes', 'resources', 'restored', 'royal', 'shelley', 'signed', 'sincere', 'square', 'suspend', 'vaguely', 'vengeance', 'wisdom', 'ya', '1983', 'arrival', 'assault', 'assigned', 'borrowed', 'climactic', 'creativity', 'descent', 'distinct', 'doubts', 'feed', 'franco', 'generations', 'icon', 'instinct', 'introduce', 'landscapes', 'leo', 'mann', 'masterful', 'masterpieces', 'mayor', 'mechanical', 'mentions', 'mummy', 'nuts', 'petty', 'polished', 'promises', 'randomly', 'recording', 'resist', 'responsibility', 'richardson', 'robbins', 'showdown', 'simmons', 'tag', 'trademark', 'unit', 'viewings', 'wacky', '1973', 'assumed', 'attend', 'attorney', 'bacall', 'bela', 'cd', 'conceived', 'craven', 'dust', 'earl', 'fields', 'fury', 'gerard', 'gifted', 'greed', 'heights', 'improvement', 'jaws', 'justin', 'map', 'marty', 'operation', 'parties', 'pit', 'poem', 'punishment', 'rangers', 'raymond', 'receives', 'resident', 'ruins', 'scrooge', 'simpson', 'sink', 'sneak', 'solution', 'spirited', 'stones', 'strangers', 'terrorists', 'unaware', 'underlying', 'visible', 'wholly', 'witnessed', 'acid', 'activities', 'businessman', 'chapter', 'closed', 'contest', 'edgy', 'educational', 'expressed', 'females', 'gabriel', 'historically', 'inevitably', 'iran', 'iraq', 'irrelevant', 'kay', 'laughably', 'loaded', 'louise', 'mentioning', 'mighty', 'muslim', 'pot', 'property', 'quit', 'slaughter', 'straightforward', 'testament', 'troubles', 'unoriginal', 'waitress', 'warmth', 'warriors', 'willie', 'wounded', '–', '13th', 'alert', 'ashley', 'brenda', 'bull', 'button', 'catching', 'christy', 'depicting', 'equipment', 'exposure', 'fashioned', 'grabs', 'hello', 'household', 'imitation', 'keith', 'merits', 'middleaged', 'minimum', 'mistress', 'omen', 'overlong', 'pink', 'popularity', 'rats', 'rocky', 'rolled', 'stunned', 'survivor', 'swim', 'teaching', 'tiger', 'tooth', 'twins', 'voiced', 'wouldbe', '35', 'accuracy', 'alfred', 'ambiguous', 'analysis', 'astonishing', 'bay', 'bergman', 'betty', 'boom', 'cannibal', 'championship', 'compassion', 'confrontation', 'cringe', 'definition', 'despair', 'disliked', 'domino', 'doom', 'empathy', 'eugene', 'exchange', 'feelgood', 'fought', 'garbo', 'greg', 'heartfelt', 'integrity', 'interests', 'invented', 'landing', 'loyalty', 'lumet', 'marketing', 'masses', 'metaphor', 'moronic', 'noone', 'pamela', 'phony', 'pressure', 'psychic', 'rabbit', 'ramones', 'randy', 'resemble', 'resulting', 'roots', 'rubber', 'shaky', 'shaw', 'sid', 'significance', 'sounding', 'spain', 'stale', 'standout', 'stretched', 'subjected', 'suggested', 'supported', 'timon', 'tribe', 'unreal', 'unseen', 'uplifting', 'valley', 'verhoeven', 'wendy', 'whoopi', '1984', 'adaptations', 'album', 'angela', 'austin', 'biography', 'butler', 'checked', 'cliche', 'comfort', 'confess', 'creep', 'defense', 'defined', 'directions', 'distribution', 'dolph', 'drake', 'expedition', 'fascination', 'fulci', 'furious', 'gather', 'immediate', 'inability', 'josh', 'kubrick', 'lackluster', 'monk', 'ollie', 'orleans', 'package', 'palace', 'pants', 'patience', 'peak', 'pierce', 'reflection', 'remained', 'retired', 'romero', 'simultaneously', 'sopranos', 'spock', 'stumbled', 'suffice', 'teachers', 'trail', 'unexpectedly', 'unpredictable', 'watson', 'wifes', 'wretched', 'abraham', 'blast', 'bud', 'claus', 'closeup', 'companies', 'composer', 'costar', 'creator', 'deceased', 'difficulties', 'eastern', 'firm', 'frightened', 'frustrating', 'grayson', 'hears', 'hopeless', 'israel', 'kyle', 'legacy', 'mankind', 'nail', 'newly', 'nicole', 'objective', 'phil', 'polanski', 'primitive', 'raises', 'rave', 'reel', 'refused', 'require', 'roommate', 'roth', 'seldom', 'sixties', 'stargate', 'sums', 'technicolor', 'travesty', 'unfair', 'victory', '1933', '1971', 'abused', 'andre', 'awhile', 'buffalo', 'christianity', 'clip', 'coast', 'conditions', 'daniels', 'darren', 'dee', 'deranged', 'desires', 'dimension', 'discovering', 'dixon', 'dreck', 'experimental', 'farrell', 'favour', 'flair', 'glasses', 'interactions', 'joins', 'kissing', 'maid', 'maniac', 'meryl', 'milk', 'musicians', 'owen', 'pal', 'pan', 'passable', 'photo', 'precisely', 'presenting', 'quietly', 'raines', 'rates', 'reid', 'remade', 'replace', 'respected', 'rises', 'scotland', 'screens', 'shanghai', 'softcore', 'stark', 'subpar', 'tastes', 'teaches', 'underneath', 'unlikable', 'vulgar', 'wakes', 'adopted', 'alcohol', 'amitabh', 'amused', 'assassin', 'barrymore', 'behaviour', 'brutality', 'casts', 'comedians', 'dose', 'dresses', 'dysfunctional', 'electric', 'encourage', 'examination', 'exposition', 'fingers', 'framed', 'gender', 'graham', 'inexplicably', 'joel', 'lands', 'literary', 'lundgren', 'matched', 'muddled', 'nerd', 'ninja', 'othello', 'prepare', 'provocative', 'rely', 'rude', 'secondly', 'spacey', 'specially', 'tank', 'walsh', 'warming', 'widescreen', 'yard', '1987', '1993', 'absent', 'alec', 'alternative', 'amusement', 'appropriately', 'aspiring', 'automatically', 'bunny', 'charged', 'chicken', 'choppy', 'complaining', 'connery', 'correctly', 'credited', 'emperor', 'femme', 'fest', 'filling', 'frankenstein', 'generated', 'griffith', 'hopkins', 'invites', 'julian', 'karl', 'knocked', 'lock', 'marion', 'marshall', 'masks', 'mode', 'musician', 'nathan', 'ordered', 'parade', 'paradise', 'pg13', 'phrase', 'positively', 'premiere', 'preposterous', 'purposes', 'reeves', 'referred', 'rifle', 'roof', 'senses', 'sentiment', 'sentinel', 'shared', 'sharon', 'shoddy', 'shouldve', 'sunny', 'tacky', 'teams', 'tomorrow', 'visiting', 'wildly', 'wrap', 'abrupt', 'accomplish', 'babies', 'carell', 'cattle', 'citizens', 'counts', 'deaf', 'demise', 'downey', 'fantasies', 'gentleman', 'greatness', 'guests', 'hackneyed', 'hawke', 'hopelessly', 'insurance', 'items', 'ladder', 'loneliness', 'mclaglen', 'morbid', 'murdering', 'poison', 'posters', 'preston', 'realised', 'refer', 'relax', 'releases', 'respective', 'romp', 'ross', 'sissy', 'spark', 'stuart', 'sung', 'topnotch', 'tracking', 'translated', 'tube', 'uncut', 'unfold', 'ustinov', 'vance', 'vice', 'yearold', '1995', '19th', '75', 'absurdity', 'accepts', 'additional', 'affection', 'antwone', 'asylum', 'bargain', 'bernard', 'beverly', 'biko', 'caricatures', 'celebration', 'challenges', 'complaints', 'corpses', 'costars', 'deserted', 'ensues', 'eternal', 'fed', 'fi', 'function', 'gambling', 'glowing', 'grotesque', 'handling', 'harm', 'hyde', 'ignorance', 'imaginable', 'indication', 'infected', 'invited', 'kansas', 'laurence', 'leon', 'macarthur', 'misleading', 'mtv', 'naughty', 'nephew', 'objects', 'pitiful', 'pun', 'realm', 'regarded', 'region', 'rooney', 'russia', 'sabrina', 'shares', 'shoulders', 'silliness', 'singers', 'skull', 'swing', 'thoughtprovoking', 'trend', 'wang', 'weakness', 'wellwritten', 'youngest', '1986', '1997', 'active', 'address', 'admirable', 'canyon', 'chainsaw', 'chills', 'coincidence', 'conveys', 'cope', 'cruelty', 'crystal', 'dana', 'devices', 'din', 'drove', 'grief', 'hitlers', 'ho', 'iconic', 'jews', 'lush', 'minded', 'muppets', 'nod', 'noises', 'oldest', 'owners', 'palance', 'partners', 'phillips', 'prey', 'pro', 'promote', 'puppet', 'receiving', 'recycled', 'reflects', 'respectively', 'secondary', 'servant', 'skits', 'threatens', 'towns', 'wilderness', '1936', '1970', 'acceptance', 'acclaimed', 'affairs', 'aim', 'alicia', 'authors', 'baldwin', 'belushi', 'burst', 'cassidy', 'conscience', 'conventions', 'conviction', 'crawford', 'damme', 'depending', 'disappears', 'forty', 'freaks', 'hammy', 'heading', 'heros', 'hk', 'industrial', 'insipid', 'investigating', 'kumar', 'les', 'lifted', 'mill', 'nolan', 'obligatory', 'occasions', 'outfits', 'outing', 'portrayals', 'posted', 'prejudice', 'recommendation', 'records', 'rejected', 'reluctant', 'sci', 'severely', 'squad', 'standup', 'stores', 'strongest', 'sympathize', 'tyler', 'understands', 'underworld', 'venture', 'visited', 'weaknesses', '1978', '1979', '1989', '2008', '73', 'ants', 'attract', 'bros', 'caliber', 'darn', 'dates', 'demonstrates', 'deniro', 'designer', 'difficulty', 'ear', 'elses', 'emerges', 'entitled', 'evidently', 'explores', 'fiancé', 'filler', 'fishing', 'fog', 'frankie', 'guaranteed', 'heist', 'hughes', 'inconsistent', 'labor', 'locals', 'malone', 'mccoy', 'misguided', 'morally', 'muppet', 'murray', 'paramount', 'patricia', 'phenomenon', 'policeman', 'predict', 'previews', 'priceless', 'profanity', 'psychology', 'redeem', 'rita', 'selection', 'shades', 'shakespeares', 'sketch', 'stages', 'steady', 'studying', 'suitably', 'suspension', 'tasteless', 'terrified', 'thread', 'tripe', 'agenda', 'alison', 'anticipation', 'banal', 'basinger', 'beatles', 'betrayal', 'billed', 'bridget', 'cancer', 'clarke', 'clock', 'commander', 'communicate', 'conclude', 'cream', 'cue', 'deleted', 'despicable', 'diehard', 'discussing', 'eats', 'feminist', 'filth', 'firstly', 'forcing', 'gems', 'hapless', 'harmless', 'hers', 'hippie', 'insists', 'iv', 'kolchak', 'kungfu', 'lois', 'marries', 'marvel', 'michaels', 'orange', 'palma', 'physics', 'programs', 'prominent', 'reader', 'reign', 'representation', 'sending', 'shouting', 'sht', 'slimy', 'snakes', 'sooner', 'soup', 'spinal', 'unexplained', 'vein', 'vibrant', 'visions', 'vital', 'worn', 'assuming', 'befriends', 'biased', 'bike', 'blatantly', 'bread', 'buster', 'cannon', 'casual', 'champion', 'circus', 'claiming', 'clan', 'claustrophobic', 'clueless', 'comparisons', 'considerably', 'crazed', 'danish', 'delicate', 'depends', 'dud', 'el', 'fido', 'flowers', 'guitar', 'harold', 'housewife', 'immature', 'ingenious', 'jacksons', 'knight', 'mentality', 'minus', 'mirrors', 'moreover', 'option', 'pg', 'pounds', 'ratso', 'renaissance', 'rhythm', 'rod', 'rome', 'route', 'shootout', 'slice', 'soso', 'sox', 'springer', 'studies', 'tempted', 'tierney', 'transformed', 'vader', 'welldone', 'wwe', 'addicted', 'adolescent', 'agency', 'bacon', 'beside', 'boston', 'campaign', 'challenged', 'co', 'connections', 'defeated', 'detectives', 'dressing', 'drivein', 'dukes', 'edit', 'ethnic', 'exploring', 'flashy', 'fluff', 'fontaine', 'gear', 'glamorous', 'grainy', 'gregory', 'grudge', 'height', 'historic', 'hokey', 'inexplicable', 'inhabitants', 'iq', 'kitty', 'legends', 'lifeless', 'limit', 'meg', 'millionaire', 'nemesis', 'nicolas', 'paxton', 'quinn', 'recognizable', 'remove', 'repeating', 'riot', 'sassy', 'schlock', 'shortcomings', 'smiles', 'stumbles', 'symbolic', 'tail', 'towers', 'unrelated', 'voted', 'wellmade', 'wings', 'ambition', 'assassination', 'backs', 'bars', 'bend', 'charms', 'childs', 'chuckle', 'computers', 'continually', 'controlled', 'couch', 'coup', 'coupled', 'departure', 'disguise', 'disgusted', 'exceptions', 'feeding', 'fifty', 'firing', 'foxx', 'gina', 'handles', 'hangs', 'independence', 'institution', 'keen', 'las', 'martha', 'melody', 'minority', 'novak', 'offbeat', 'outright', 'paintings', 'parsons', 'partially', 'penny', 'pete', 'praised', 'rapist', 'satirical', 'screwed', 'shopping', 'someday', 'sorely', 'stairs', 'static', 'surgery', 'thompson', 'ton', 'trials', 'trivia', 'tunnel', 'uniformly', 'vocal', '1981', '1988', '23', 'accurately', 'ace', 'altman', 'arthouse', 'artsy', 'artwork', 'audrey', 'bates', 'bondage', 'bowl', 'boxer', 'bully', 'camcorder', 'centre', 'cheer', 'commenting', 'debate', 'deserving', 'destroys', 'dirt', 'disastrous', 'duck', 'dylan', 'earn', 'employed', 'farfetched', 'feat', 'firmly', 'gate', 'girlfriends', 'hack', 'hearted', 'hilarity', 'inspire', 'kathryn', 'macho', 'mercy', 'messy', 'nails', 'natives', 'neurotic', 'newer', 'northern', 'outdated', 'pacific', 'posey', 'preachy', 'preferred', 'ripping', 'rukh', 'serving', 'shoulder', 'sirk', 'sugar', 'swept', 'threatened', 'thrilled', 'token', 'wax', 'yeti', '1000', '1969', '1976', 'allens', 'audition', 'bent', 'boasts', 'boyle', 'brendan', 'bridges', 'brooding', 'cartoonish', 'centered', 'completed', 'concepts', 'curly', 'demonic', 'describing', 'destined', 'disorder', 'doo', 'duration', 'elite', 'entered', 'esther', 'europa', 'evolution', 'excess', 'freddys', 'fuller', 'garner', 'harrison', 'healthy', 'hides', 'info', 'insightful', 'interestingly', 'kidman', 'layers', 'leigh', 'lindsay', 'liners', 'males', 'marlon', 'mayhem', 'melissa', 'mutual', 'neatly', 'obtain', 'organized', 'pole', 'predecessor', 'refuse', 'rooting', 'screenwriters', 'sharing', 'sleeps', 'speeches', 'stalker', 'steele', 'strings', 'subtly', 'suggestion', 'topics', 'toronto', 'triangle', 'uma', 'unlikeable', 'vain', 'vile', 'winchester', 'windows', '1945', '22', '4th', 'affects', 'anyones', 'applaud', 'authorities', 'bogus', 'bulk', 'cassavetes', 'charlton', 'chavez', 'christine', 'colin', 'containing', 'damaged', 'dazzling', 'deny', 'des', 'elevator', 'engrossing', 'exquisite', 'fade', 'fist', 'gal', 'guards', 'helpful', 'helpless', 'hires', 'hungry', 'injured', 'kline', 'knightley', 'leaders', 'mannerisms', 'masterfully', 'mesmerizing', 'newman', 'norm', 'originals', 'politician', 'punches', 'raj', 'readers', 'refers', 'relentless', 'rendered', 'reruns', 'rope', 'saint', 'seedy', 'shaking', 'sincerely', 'skit', 'sometime', 'stopping', 'ta', 'tip', 'traffic', 'undead', 'wanders', 'weaker', 'weather', 'wig', 'woo', 'zombi', 'activity', 'advertised', 'akin', 'alley', 'anton', 'backwards', 'behold', 'boris', 'bow', 'breed', 'candidate', 'carey', 'carla', 'cbs', 'chronicles', 'cliches', 'contempt', 'crashes', 'critique', 'demanding', 'detract', 'dudley', 'duvall', 'emerge', 'error', 'excellently', 'exploits', 'fastpaced', 'fifties', 'frances', 'gained', 'genie', 'hartley', 'hugely', 'hulk', 'internal', 'item', 'jared', 'jess', 'lasting', 'lifes', 'lift', 'luis', 'min', 'motive', 'myth', 'nut', 'owes', 'passengers', 'preparing', 'profession', 'proving', 'publicity', 'quaid', 'racing', 'residents', 'restrained', 'rides', 'scariest', 'shorter', 'stack', 'stare', 'startling', 'statue', 'strengths', 'tarantino', 'tenant', 'tower', 'triple', 'unsuspecting', 'users', 'wheres', '1939', '1991', '21st', 'abruptly', 'approaches', 'authenticity', 'banter', 'belt', 'bitch', 'breakfast', 'buys', 'carmen', 'casino', 'cerebral', 'choosing', 'compete', 'confront', 'confronted', 'conrad', 'contribution', 'convinces', 'cracking', 'disguised', 'dj', 'dropping', 'dubious', 'eleven', 'entering', 'expertly', 'factors', 'fools', 'galaxy', 'giants', 'gillian', 'gimmick', 'globe', 'goodbye', 'grounds', 'heels', 'highway', 'inaccurate', 'ingrid', 'insanity', 'insights', 'insults', 'jaw', 'joker', 'justified', 'kent', 'label', 'lasts', 'limitations', 'located', 'macabre', 'mail', 'miami', 'minister', 'misfortune', 'mixing', 'modest', 'mutant', 'net', 'netflix', 'origin', 'origins', 'poker', 'promptly', 'radical', 'rapidly', 'realities', 'referring', 'servants', 'sleaze', 'spree', 'stallone', 'storys', 'stunningly', 'suburban', 'tokyo', 'tops', 'vastly', 'votes', 'wardrobe', 'youthful', '1977', 'accessible', 'alexandre', 'alvin', 'antonio', 'approaching', 'austen', 'bachelor', 'beware', 'biblical', 'bitten', 'braveheart', 'cents', 'colours', 'conan', 'confident', 'convicted', 'dandy', 'definitive', 'depths', 'derivative', 'differently', 'endlessly', 'eventual', 'expects', 'fords', 'formed', 'gates', 'grateful', 'growth', 'guinness', 'heavyhanded', 'homes', 'incidentally', 'inherent', 'interact', 'jarring', 'jordan', 'landed', 'lauren', 'lend', 'lowkey', 'lukas', 'mitch', 'mol', 'nina', 'nope', 'ol', 'owns', 'painter', 'pale', 'perception', 'phillip', 'principals', 'puerto', 'puppets', 'rampage', 'repulsive', 'reward', 'rookie', 'salt', 'salvation', 'sf', 'sinking', 'soylent', 'sticking', 'supply', 'thunderbirds', 'tormented', 'tossed', 'undeniably', 'underwater', 'unsure', 'vividly', 'wander', 'adore', 'ally', 'altered', 'angst', 'ariel', 'assured', 'attenborough', 'barrel', 'bronson', 'bruno', 'buzz', 'caricature', 'cemetery', 'concentrate', 'continuing', 'conveyed', 'cries', 'damned', 'decidedly', 'depict', 'devastating', 'dismal', 'dragons', 'energetic', 'eternity', 'evelyn', 'exit', 'exploit', 'exterior', 'fatale', 'flashes', 'flimsy', 'frames', 'gere', 'glued', 'godawful', 'goodlooking', 'ham', 'hats', 'homicide', 'identical', 'immortal', 'incapable', 'jedi', 'judd', 'letdown', 'meandering', 'mice', 'monty', 'nominations', 'outline', 'overblown', 'photographs', 'pray', 'published', 'regards', 'repressed', 'runner', 'sale', 'screw', 'sensible', 'separated', 'siblings', 'sniper', 'spies', 'stranded', 'survives', 'unattractive', 'vehicles', 'wendigo', 'yokai', '1950', '1985', '300', 'accounts', 'addict', 'africanamerican', 'antonioni', 'appeals', 'arab', 'arguing', 'bloom', 'bmovies', 'bones', 'butch', 'butcher', 'cecil', 'characteristics', 'chopped', 'cleaning', 'colleagues', 'combines', 'contribute', 'creek', 'crippled', 'crisp', 'crossing', 'cultures', 'decline', 'delicious', 'demonstrate', 'disabled', 'disgrace', 'divine', 'dread', 'drinks', 'ebert', 'election', 'enhanced', 'ensure', 'enthusiastic', 'entirety', 'excruciatingly', 'expose', 'farmer', 'fifth', 'filthy', 'fragile', 'handheld', 'heavens', 'hindi', 'homosexuality', 'imo', 'implied', 'improbable', 'inspirational', 'intricate', 'irene', 'janes', 'judgment', 'jules', 'longest', 'loretta', 'mermaid', 'moe', 'nerves', 'niece', 'oldfashioned', 'owned', 'papers', 'pattern', 'payoff', 'pc', 'peck', 'penn', 'playboy', 'pleasing', 'possess', 'principle', 'promoted', 'psychopath', 'quantum', 'randolph', 'reliable', 'reminder', 'reports', 'respectable', 'reviewing', 'rivers', 'ronald', 'severed', 'sg1', 'simpsons', 'stalking', 'sublime', 'subway', 'swallow', 'tapes', 'terminator', 'toni', 'uniform', 'unimaginative', 'volume', 'walt', 'wisely', 'witchcraft', 'zane', '1920s', '1974', '1994', '28', '95', 'absorbing', 'aided', 'answered', 'assembled', 'astounding', 'attacking', 'beowulf', 'bsg', 'budgets', 'bug', 'collect', 'cushing', 'deer', 'distract', 'divorced', 'dustin', 'email', 'embrace', 'errol', 'escaping', 'estranged', 'experiencing', 'fairbanks', 'habit', 'harriet', 'hippies', 'holocaust', 'immense', 'itthis', 'jacket', 'juliet', 'kidnapping', 'lance', 'leather', 'lester', 'lex', 'lighter', 'mathieu', 'missile', 'mitchum', 'mobile', 'morals', 'natalie', 'nightclub', 'ny', 'ohara', 'ominous', 'p', 'packs', 'parallels', 'pickup', 'pirate', 'popping', 'pursue', 'rainy', 'reeve', 'remembering', 'resolved', 'scarface', 'scratch', 'senior', 'sentimentality', 'sidewalk', 'soderbergh', 'steam', 'switched', 'tara', 'tendency', 'timberlake', 'tremendously', 'ultimatum', 'vanessa', 'wagner', 'whining', 'whiny', 'wonderland', 'youtube', 'zizek', '200', 'adrian', 'aiming', 'alleged', 'amazon', 'amrita', 'approached', 'asia', 'bach', 'begging', 'boyer', 'cheaply', 'chill', 'christie', 'clara', 'clash', 'classy', 'collective', 'contestants', 'conveniently', 'copied', 'corporation', 'crown', 'cyborg', 'dame', 'dashing', 'deliberate', 'demonstrated', 'denis', 'dilemma', 'disgust', 'earnest', 'exorcist', 'expectation', 'fills', 'followup', 'forgiven', 'garland', 'gentlemen', 'ghetto', 'glaring', 'goldblum', 'grass', 'gunga', 'havoc', 'isolation', 'jaded', 'knocks', 'kurosawa', 'lavish', 'literal', 'lola', 'longing', 'longtime', 'magician', 'marc', 'messing', 'miranda', 'noticeable', 'paula', 'peaceful', 'peculiar', 'pin', 'polly', 'postwar', 'ps', 'quarter', 'quentin', 'rebellious', 'rescued', 'resulted', 'reviewed', 'revolt', 'ritchie', 'rounded', 'sand', 'seeming', 'selected', 'sergeant', 'seymour', 'sophie', 'sought', 'spectacle', 'stardom', 'stewarts', 'subtext', 'sucker', 'theories', 'turmoil', 'unsatisfying', 'updated', 'victorian', 'virtual', 'voyage', 'wellacted', 'werewolves', 'wire', 'yours', '\\x97', '19', '1959', 'accepting', 'achieves', 'acquired', 'addiction', 'admired', 'affleck', 'arc', 'arriving', 'aussie', 'avoiding', 'bills', 'bittersweet', 'bombs', 'borders', 'bravo', 'burke', 'bw', 'canceled', 'casper', 'celebrated', 'christina', 'climb', 'coat', 'commits', 'contributed', 'crashing', 'dealer', 'debt', 'define', 'deliverance', 'diverse', 'dramatically', 'dump', 'enhance', 'establish', 'excuses', 'executives', 'foolish', 'frontier', 'gamera', 'goods', 'hackman', 'indiana', 'jealousy', 'judged', 'karate', 'kellys', 'laurie', 'lightning', 'liu', 'liveaction', 'morons', 'mystical', 'nolte', 'odyssey', 'pad', 'pickford', 'planets', 'plotting', 'pocket', 'poses', 'potter', 'rear', 'rehash', 'rowlands', 'salman', 'scotts', 'serials', 'settled', 'skilled', 'slapped', 'slaves', 'slip', 'snuff', 'spaghetti', 'span', 'spit', 'suspected', 'swearing', 'sydney', 'taped', 'thieves', 'tourist', 'trains', 'traits', 'valentine', 'vanilla', 'vega', 'vince', 'wartime', 'whites', 'wilder', 'worms', 'wounds', '1944', '21', 'anil', 'attending', 'axe', 'bounty', 'brainless', 'breakdown', 'cape', 'cheek', 'cher', 'circles', 'cliffhanger', 'commitment', 'comprehend', 'cookie', 'corbett', 'courtroom', 'covering', 'cuban', 'dads', 'defies', 'deliciously', 'delighted', 'delightfully', 'downs', 'drab', 'expense', 'exploding', 'explosive', 'feast', 'firstrate', 'flavor', 'fluid', 'freaky', 'furniture', 'gable', 'graveyard', 'hayworth', 'headache', 'horny', 'immigrant', 'incorrect', 'informed', 'inmates', 'insist', 'intentional', 'introducing', 'jersey', 'jodie', 'juliette', 'korea', 'leap', 'legitimate', 'logan', 'loy', 'lunch', 'mason', 'moron', 'mum', 'nbc', 'novelty', 'overboard', 'pause', 'pedestrian', 'phenomenal', 'pirates', 'planes', 'populated', 'posing', 'predictably', 'psychologist', 'pumbaa', 'races', 'ranch', 'readily', 'redundant', 'relentlessly', 'remembers', 'rewarding', 'ritual', 'romances', 'romeo', 'samantha', 'sarcastic', 'scoop', 'seasoned', 'seductive', 'slugs', 'spencer', 'spice', 'stella', 'strict', 'suggesting', 'taboo', 'tax', 'tolerable', 'tonys', 'tool', 'truman', 'ultra', 'underwear', 'unsympathetic', 'vanity', 'wiped', 'wtf', '1953', 'anxious', 'apply', 'arranged', 'arrest', 'attended', 'awakening', 'bachchan', 'barbra', 'beg', 'cal', 'carnage', 'caron', 'cigarette', 'clerk', 'cliched', 'clive', 'cohen', 'consideration', 'consist', 'counter', 'cypher', 'deanna', 'debbie', 'deciding', 'dominated', 'einstein', 'encountered', 'establishing', 'europeans', 'festivals', 'foundation', 'franklin', 'gielgud', 'gilbert', 'groundbreaking', 'hepburn', 'instincts', 'ira', 'jacques', 'kinnear', 'lean', 'lends', 'lethal', 'liam', 'likeable', 'medieval', 'melvyn', 'mins', 'mortal', 'mouths', 'mysteriously', 'newcomer', 'nuances', 'optimistic', 'pans', 'parking', 'passage', 'phase', 'pilots', 'poe', 'polish', 'politicians', 'possesses', 'possession', 'pound', 'precode', 'produces', 'pushes', 'redneck', 'respects', 'ricky', 'robbers', 'sells', 'shepherd', 'shockingly', 'slide', 'stroke', 'stylized', 'symbol', 'themthe', 'thirties', 'timethe', 'toby', 'tongueincheek', 'trace', 'vintage', 'wastes', 'wider', 'wine', 'yawn', '1975', '99', 'abandon', 'aftermath', 'anthology', 'anticipated', 'anytime', 'armstrong', 'begs', 'blandings', 'breathing', 'btw', 'bye', 'casablanca', 'clone', 'compliment', 'controlling', 'crosby', 'daisy', 'daylewis', 'degrees', 'distracted', 'distress', 'document', 'duel', 'dumbest', 'dumped', 'embarrassingly', 'en', 'erika', 'excruciating', 'explodes', 'exploited', 'feeble', 'feminine', 'flock', 'freaking', 'guinea', 'gypo', 'haines', 'hateful', 'hop', 'horrified', 'huston', 'hybrid', 'incidents', 'indicate', 'indifferent', 'informative', 'invention', 'invite', 'jewel', 'jill', 'july', 'jury', 'keatons', 'keys', 'longoria', 'lucille', 'mens', 'milo', 'misunderstood', 'motions', 'mute', 'neglected', 'obsessive', 'obstacles', 'ordeal', 'pfeiffer', 'porter', 'preminger', 'psyche', 'pursued', 'queens', 'rational', 'rejects', 'reverse', 'routines', 'sarandon', 'scored', 'screwball', 'serum', 'session', 'sgt', 'sixth', 'sources', 'sparks', 'stabbed', 'stating', 'stephanie', 'tactics', 'tickets', 'turd', 'uh', 'unanswered', 'unusually', 'verdict', 'viewpoint', 'xfiles', 'yep', '1940', '1998', '34', 'adaption', 'afterward', 'aggressive', 'agony', 'alot', 'amidst', 'arguments', 'arty', 'basket', 'belly', 'biopic', 'brides', 'busey', 'cannes', 'centuries', 'charlies', 'ches', 'cindy', 'columbia', 'convention', 'cooking', 'corman', 'corn', 'darth', 'daylight', 'depictions', 'distraction', 'enigmatic', 'flower', 'forties', 'frantic', 'freeze', 'fright', 'gangs', 'generate', 'gloria', 'goals', 'grabbed', 'grandma', 'gwyneth', 'hannah', 'inaccuracies', 'instances', 'iranian', 'kathy', 'mama', 'marilyn', 'martian', 'mcqueen', 'meal', 'meantime', 'monologue', 'mormon', 'murky', 'mythology', 'narrow', 'niven', 'noteworthy', 'olivia', 'otto', 'participants', 'pathos', 'pixar', 'pointing', 'products', 'puzzle', 'q', 'rambling', 'regularly', 'relevance', 'rider', 'rosemarys', 'roughly', 'salesman', 'sanders', 'sickening', 'spiderman', 'stations', 'sundance', 'targets', 'thelma', 'thurman', 'translate', 'tvs', 'un', 'uncanny', 'upcoming', 'varied', 'verbal', 'veterans', 'void', 'warns', 'whore', '1948', '1982', 'admitted', 'ambitions', 'angie', 'anyhow', 'arquette', 'august', 'begun', 'berkeley', 'blamed', 'bogart', 'carpenters', 'click', 'coffin', 'combs', 'controversy', 'corey', 'county', 'criticize', 'debra', 'deed', 'denise', 'diary', 'discussed', 'dismiss', 'dynamics', 'eagerly', 'economic', 'employee', 'exclusively', 'fanatic', 'fishburne', 'flames', 'followers', 'forgetting', 'funding', 'gallery', 'glance', 'glimpses', 'grip', 'hadley', 'herbert', 'herman', 'hoot', 'inclusion', 'intensely', 'intro', 'jenna', 'jolie', 'jose', 'juan', 'kidnap', 'launch', 'lip', 'lowe', 'lurking', 'manners', 'masterson', 'mates', 'midst', 'minnelli', 'moss', 'motorcycle', 'nerve', 'overbearing', 'paints', 'parks', 'paths', 'phones', 'plodding', 'policy', 'predator', 'realistically', 'realization', 'relating', 'releasing', 'replies', 'resembling', 'rounds', 'sang', 'scorsese', 'seats', 'services', 'shift', 'shifts', 'spine', 'stance', 'starters', 'statements', 'sunrise', 'suspicion', 'swinging', 'tcm', 'tomei', 'traps', 'tuned', 'upside', '1934', 'abortion', 'ambiguity', 'ample', 'angelina', 'applied', 'applies', 'apt', 'assignment', 'avid', 'backed', 'battlestar', 'biker', 'bosses', 'branaghs', 'campus', 'capacity', 'chamber', 'claude', 'comeback', 'consequence', 'cycle', 'deputy', 'dreamy', 'dumber', 'edith', 'educated', 'enchanted', 'envy', 'evans', 'extensive', 'factual', 'fleshed', 'foil', 'foremost', 'fried', 'frog', 'frontal', 'gap', 'gestures', 'gigantic', 'gloomy', 'haunt', 'hines', 'hinted', 'hyped', 'idol', 'ignores', 'ignoring', 'imaginary', 'itit', 'kazan', 'linked', 'lionel', 'mabel', 'maintains', 'maureen', 'moms', 'murderers', 'narrated', 'naschy', 'necessity', 'offscreen', 'pains', 'penelope', 'periods', 'platform', 'popped', 'qualify', 'reflected', 'reiser', 'reunite', 'rewarded', 'saloon', 'scarecrows', 'scenarios', 'scripting', 'selfindulgent', 'sentences', 'shepard', 'shore', 'sketches', 'skinny', 'smash', 'snowman', 'sondra', 'stalked', 'sterling', 'stiles', 'substantial', 'surroundings', 'sweden', 'syndrome', 'uniforms', 'warden', 'widowed', 'wong', 'z', '101', '1992', 'acknowledge', 'alliance', 'anita', 'arkin', 'array', 'arrow', 'assure', 'babes', 'bats', 'beckinsale', 'benefits', 'bikini', 'biting', 'blaise', 'bleed', 'blockbusters', 'bonnie', 'breast', 'bubble', 'cab', 'cap', 'characterisation', 'characterizations', 'cheadle', 'clay', 'clunky', 'collins', 'cunningham', 'curiously', 'daytime', 'delirious', 'denouement', 'dillinger', 'diner', 'dominic', 'du', 'eli', 'entrance', 'frozen', 'gaps', 'georgia', 'goldie', 'gooding', 'graduate', 'gus', 'harlow', 'homicidal', 'insomnia', 'intact', 'invested', 'investigator', 'islands', 'israeli', 'jacks', 'kathleen', 'kells', 'knights', 'kris', 'kubricks', 'laputa', 'lions', 'medicine', 'mick', 'miyazaki', 'momentum', 'moviegoers', 'moviemaking', 'muslims', 'nuanced', 'observe', 'paranoid', 'phantasm', 'pornography', 'pose', 'precise', 'protest', 're', 'repeats', 'replacement', 'resistance', 'resume', 'reunited', 'revival', 'rips', 'robertson', 'rodriguez', 'ruining', 'safely', 'sailor', 'schedule', 'schneider', 'shaggy', 'sheets', 'sights', 'sins', 'slim', 'smell', 'soprano', 'stereotyped', 'stream', 'therapy', 'tho', 'tones', 'trier', 'troma', 'unfolding', 'unstable', 'valid', 'wheel', 'witnessing', 'zorro', '1967', 'abound', 'additionally', 'admits', 'artistry', 'bait', 'balanced', 'bauer', 'bc', 'bias', 'boundaries', 'brooke', 'chamberlain', 'childlike', 'clooney', 'coke', 'collette', 'colored', 'commanding', 'consequently', 'cow', 'crushed', 'customers', 'deemed', 'detroit', 'displaying', 'enchanting', 'famed', 'fleet', 'fortunate', 'fundamental', 'fuzzy', 'gathering', 'hayes', 'hooker', 'hysterically', 'inadvertently', 'interrupted', 'iturbi', 'johns', 'joking', 'laboratory', 'landmark', 'marked', 'meteor', 'mustve', 'needing', 'networks', 'october', 'offend', 'omar', 'parrot', 'pegg', 'playwright', 'prophecy', 'questioning', 'raging', 'realises', 'rebels', 'relying', 'reserved', 'retelling', 'revolving', 'rightly', 'rosario', 'russ', 'sarcasm', 'seduce', 'sensibility', 'sheen', 'sherlock', 'shocks', 'shotgun', 'silverman', 'similarity', 'sitcoms', 'skeptical', 'snipes', 'sour', 'spider', 'stadium', 'steer', 'stern', 'studied', 'sufficient', 'supreme', 'talky', 'thereby', 'tire', 'tomb', 'villainous', 'waking', 'wayans', 'weekly', '85', 'addressed', 'ala', 'announced', 'arrogance', 'awareness', 'baddies', 'beckham', 'boogie', 'boots', 'bust', 'caretaker', 'charges', 'cheerful', 'chew', 'chiba', 'commendable', 'complications', 'confined', 'controls', 'convent', 'courtesy', 'coworker', 'criticized', 'demille', 'despise', 'determination', 'disco', 'district', 'diversity', 'divided', 'drowned', 'egyptian', 'enduring', 'epics', 'ernie', 'evokes', 'fairytale', 'favourites', 'finishes', 'finishing', 'forgets', 'fruit', 'fuel', 'gackt', 'geisha', 'handicapped', 'hardened', 'heath', 'hitchcocks', 'hostel', 'howling', 'interior', 'interviewed', 'itbut', 'janet', 'jude', 'lil', 'lopez', 'lunatic', 'lynchs', 'madeleine', 'marisa', 'maximum', 'nauseating', 'northam', 'observations', 'olsen', 'penned', 'phoenix', 'pivotal', 'professionals', 'progressed', 'psychedelic', 'puppy', 'quintessential', 'reluctantly', 'rice', 'rolls', 'rupert', 'sammo', 'samuel', 'scheming', 'sebastian', 'shameless', 'shred', 'sincerity', 'sly', 'smug', 'spotlight', 'stake', 'stumble', 'subgenre', 'substitute', 'sunset', 'sweat', 'trauma', 'trivial', 'truths', 'um', 'unclear', 'understandably', 'unfamiliar', 'unhinged', 'unnatural', 'upstairs', 'vargas', 'vignettes', 'visitor', 'wash', 'washed', 'worldwide', 'ww2', '1943', '1951', '1963', 'accidental', 'accompanying', 'affecting', 'annoy', 'antagonist', 'backstory', 'bakshis', 'beard', 'blackandwhite', 'bonanza', 'bonds', 'brat', 'brent', 'brett', 'burial', 'cain', 'cameraman', 'camping', 'captivated', 'carlos', 'celebrities', 'chaotic', 'characteristic', 'chuckles', 'clouds', 'colleague', 'comparable', 'composition', 'considers', 'convenient', 'cutter', 'deeds', 'destination', 'devotion', 'dynamite', 'earliest', 'entries', 'explode', 'fart', 'fascist', 'fassbinder', 'file', 'flows', 'galactica', 'gorilla', 'guardian', 'gut', 'hallmark', 'harrowing', 'hiphop', 'hostile', 'hunted', 'infinitely', 'injury', 'insert', 'inserted', 'interpretations', 'johansson', 'kindly', 'kirsten', 'krueger', 'laying', 'lens', 'license', 'madsen', 'magically', 'mandy', 'martians', 'mccarthy', 'meadows', 'monks', 'monotonous', 'obscurity', 'occult', 'olds', 'orchestra', 'outlandish', 'owl', 'participate', 'perverted', 'programme', 'python', 'randall', 'recover', 'relaxed', 'reminding', 'republic', 'resolve', 'roses', 'sanity', 'semblance', 'seth', 'shannon', 'sonny', 'summed', 'surround', 'sylvia', 'targeted', 'temper', 'testing', 'thailand', 'thrust', 'tide', 'titular', 'traditions', 'transparent', 'unnecessarily', 'update', 'verge', 'whimsical', 'whod', 'wholesome', 'yell', 'achievements', 'adapt', 'adele', 'admission', 'aesthetic', 'allthe', 'almighty', 'article', 'avoids', 'awaiting', 'baron', 'battlefield', 'bearing', 'blazing', 'borrow', 'cancelled', 'caprica', 'cena', 'chong', 'clarity', 'cocaine', 'coma', 'committing', 'communication', 'compensate', 'complained', 'constraints', 'counting', 'creasy', 'crooks', 'crossed', 'crosses', 'dafoe', 'dahmer', 'dallas', 'dangerously', 'deathtrap', 'distributed', 'dragging', 'drift', 'drowning', 'elephants', 'elliott', 'elsa', 'engine', 'excels', 'exploitative', 'faded', 'fetish', 'filmit', 'finney', 'flag', 'flashing', 'ghastly', 'gypsy', 'herd', 'hooper', 'hostage', 'implies', 'incestuous', 'inclined', 'intend', 'jagger', 'judges', 'kinski', 'listened', 'macdonald', 'marcel', 'mei', 'melancholy', 'miikes', 'mister', 'misty', 'motel', 'myrna', 'nightmarish', 'novelist', 'nun', 'openly', 'outrageously', 'philo', 'pigs', 'pizza', 'plate', 'portuguese', 'preaching', 'protection', 'rampant', 'rea', 'recreate', 'remark', 'rivals', 'robbed', 'sales', 'salvage', 'sane', 'satisfaction', 'scarlett', 'scoobydoo', 'se', 'searched', 'sho', 'sholay', 'slashers', 'spoiling', 'sporting', 'stepmother', 'stuffed', 'subsequently', 'sunk', 'suzanne', 'takashi', 'taut', 'thunder', 'timmy', 'toned', 'toxic', 'turkish', 'ugh', 'unappealing', 'underdeveloped', 'understatement', 'upbeat', 'variation', 'vivian', 'vomit', 'wherever', 'whove', 'winners', 'wrestler', 'wright', '1932', '26', 'aaron', 'absorbed', 'abundance', 'admiration', 'advised', 'ajay', 'apocalypse', 'apple', 'assumes', 'aunts', 'avenge', 'awarded', 'banks', 'bashing', 'battling', 'beers', 'bernsen', 'betrayed', 'burnt', 'cedric', 'celebrate', 'cheering', 'circa', 'clad', 'classmates', 'climbing', 'cmon', 'conductor', 'confuse', 'contestant', 'coolest', 'courageous', 'creations', 'deepest', 'desk', 'distinction', 'dreaming', 'drivers', 'duh', 'dwight', 'encouraged', 'enormously', 'epitome', 'evoke', 'excellence', 'facility', 'fairness', 'fashions', 'fires', 'frat', 'fritz', 'garfield', 'ghostly', 'glossy', 'grin', 'hawn', 'henchmen', 'hometown', 'impending', 'isabelle', 'juice', 'lennon', 'locke', 'lookalike', 'manipulation', 'mentor', 'miraculously', 'mock', 'mole', 'movieit', 'nutshell', 'oblivious', 'observation', 'orphan', 'overshadowed', 'overtones', 'palm', 'permanent', 'plug', 'practical', 'presidential', 'pretends', 'proceed', 'progression', 'prop', 'raunchy', 'remainder', 'rendering', 'restraint', 'riff', 'robotic', 'ruled', 'satanic', 'screened', 'seattle', 'sections', 'senator', 'serbian', 'sergio', 'sexist', 'shah', 'sharks', 'shoe', 'sinks', 'slower', 'smiths', 'sophia', 'spiral', 'ss', 'stabbing', 'tools', 'transport', 'traumatic', 'unconventional', 'uneasy', 'vapid', 'vcr', 'voodoo', 'voyager', 'walmart', 'warrant', 'watcher', 'wesley', 'wheelchair', 'zodiac', '1958', '1966', 'ambiance', 'assistance', 'auto', 'automatic', 'beforehand', 'bimbo', 'blondell', 'boobs', 'bout', 'brazilian', 'buttons', 'candle', 'caper', 'capote', 'carlitos', 'carpet', 'chloe', 'choir', 'chops', 'coburn', 'colony', 'cons', 'conveying', 'convict', 'cursed', 'dc', 'deadpan', 'defending', 'demeanor', 'diego', 'distinctive', 'dominate', 'doug', 'eagle', 'ealing', 'effortlessly', 'electronic', 'employees', 'ernest', 'espionage', 'everett', 'experts', 'fades', 'failures', 'feinstone', 'fraud', 'garage', 'gig', 'gilliam', 'giovanna', 'goat', 'greene', 'hobgoblins', 'hum', 'incest', 'incidental', 'informer', 'irritated', 'jackman', 'jar', 'je', 'jj', 'joining', 'labeled', 'linear', 'macmurray', 'magazines', 'marijuana', 'masked', 'meek', 'meredith', 'meyer', 'moores', 'myrtle', 'notices', 'noting', 'occupied', 'organization', 'paz', 'peggy', 'plotline', 'priests', 'principles', 'projected', 'prologue', 'pursuing', 'quaint', 'qualifies', 'raid', 'razor', 'reported', 'respond', 'riders', 'rivalry', 'roller', 'rourke', 'runaway', 'screenplays', 'secure', 'selfcentered', 'shameful', 'shaped', 'sheep', 'sickness', 'slater', 'solved', 'somethings', 'spontaneous', 'stab', 'stardust', 'storythe', 'suave', 'submarine', 'superstar', 'theodore', 'transforms', 'unleashed', 'warehouse', 'abomination', 'admirer', 'ads', 'annoyance', 'antihero', 'artemisia', 'associate', 'badness', 'barnes', 'bean', 'benjamin', 'bennett', 'blames', 'bless', 'bloodbath', 'boards', 'bodyguard', 'brashear', 'budding', 'busby', 'cells', 'cheech', 'chip', 'clinic', 'closure', 'clyde', 'cohesive', 'combining', 'confines', 'conscious', 'crashed', 'croc', 'davids', 'detached', 'disappearance', 'discipline', 'disregard', 'doyle', 'dreyfuss', 'dunst', 'economy', 'edges', 'englund', 'farmers', 'ferrell', 'fiancée', 'fiend', 'filmography', 'frost', 'geek', 'gena', 'govinda', 'gretchen', 'harron', 'highschool', 'ideals', 'influences', 'influential', 'inform', 'informs', 'interiors', 'investment', 'jigsaw', 'jo', 'joint', 'lampoon', 'lara', 'lifelong', 'madison', 'mae', 'managing', 'manipulated', 'marines', 'middleclass', 'mills', 'monroe', 'motivated', 'nest', 'ninety', 'ninjas', 'obrien', 'offense', 'officially', 'ongoing', 'outset', 'patty', 'pauline', 'playful', 'policemen', 'pompous', 'pornographic', 'prank', 'predecessors', 'pros', 'prostitutes', 'prostitution', 'ram', 'rebellion', 'reject', 'responds', 'saints', 'sandy', 'sensitivity', 'sensual', 'shahid', 'shrek', 'signature', 'sites', 'slavery', 'slept', 'snap', 'sober', 'socially', 'spoofs', 'starship', 'strung', 'sustain', 'switching', 'symbols', 'tackle', 'tashan', 'tech', 'tended', 'theatres', 'timei', 'tits', 'tolerance', 'torment', 'travis', 'turtle', 'uncertain', 'vigilante', 'warhols', 'weirdness', 'woefully', 'worrying', 'yells', '1946', '1955', 'acclaim', 'advances', 'ang', 'anguish', 'animations', 'asset', 'awry', 'barney', 'beetle', 'believability', 'berenger', 'bert', 'bites', 'blessed', 'boyfriends', 'brandon', 'breathe', 'britney', 'burgess', 'cannibals', 'captive', 'cheers', 'cody', 'collapse', 'collector', 'concentration', 'conclusions', 'connie', 'consciousness', 'counterparts', 'cracks', 'cravens', 'cringing', 'criticisms', 'crowded', 'cunning', 'damsel', 'depend', 'dern', 'determine', 'dictator', 'digging', 'dim', 'directtovideo', 'dish', 'distorted', 'diving', 'division', 'drawings', 'echoes', 'egg', 'emphasize', 'existing', 'fabric', 'fixed', 'flowing', 'fodder', 'forgiveness', 'forrest', 'framing', 'functions', 'gadgets', 'gershwin', 'goodman', 'grating', 'griffiths', 'groove', 'gruff', 'hallucinations', 'happenings', 'himthe', 'holt', 'idealistic', 'identified', 'imitate', 'inconsistencies', 'inexperienced', 'interplay', 'irving', 'jewelry', 'justification', 'lays', 'liberty', 'lindy', 'lingering', 'lurid', 'maintaining', 'malden', 'manic', 'marine', 'marrying', 'merry', 'midget', 'mines', 'mixes', 'morse', 'mustache', 'mythical', 'nearest', 'norris', 'padding', 'pairing', 'palmas', 'parodies', 'paycheck', 'peers', 'pen', 'peril', 'perspectives', 'perverse', 'polar', 'pressed', 'programming', 'protective', 'reagan', 'reasoning', 'rewrite', 'russo', 'sacrifices', 'sailors', 'scratching', 'scriptwriter', 'sensational', 'seriousness', 'seuss', 'shield', 'shootouts', 'shoved', 'slam', 'spaceship', 'spade', 'spelling', 'stabs', 'standpoint', 'stink', 'superfluous', 'surrender', 'theirs', 'throwaway', 'tolerate', 'tramp', 'transported', 'troopers', 'unravel', 'val', 'varying', 'vet', 'vincenzo', 'warners', 'waynes', 'waythe', 'abu', 'airing', 'ali', 'allan', 'altmans', 'amid', 'animators', 'bartender', 'bastard', 'borrows', 'brush', 'buffy', 'butchered', 'cages', 'categories', 'censorship', 'cloak', 'communism', 'confronts', 'continuously', 'contributes', 'cousins', 'coward', 'cowardly', 'coworkers', 'czech', 'dash', 'decency', 'deck', 'dedication', 'denying', 'depardieu', 'derived', 'disappoints', 'dom', 'downfall', 'drastically', 'drummer', 'duchovny', 'earns', 'egypt', 'elected', 'engineer', 'entertains', 'er', 'examine', 'faint', 'federal', 'fiery', 'filmthis', 'flavia', 'flew', 'foreboding', 'gandolfini', 'gasp', 'gathered', 'genetic', 'gibson', 'gino', 'graces', 'grease', 'grossly', 'hairy', 'halfhour', 'han', 'hardboiled', 'hartleys', 'heap', 'henchman', 'heroines', 'identities', 'inhabit', 'jan', 'jurassic', 'k', 'keanu', 'kidnaps', 'liberties', 'lifts', 'lightweight', 'lo', 'locale', 'locate', 'lords', 'loren', 'luxury', 'mack', 'manga', 'marcus', 'marvin', 'mcadams', 'melbourne', 'mercifully', 'mobster', 'monica', 'monologues', 'officials', 'opposition', 'orlando', 'ostensibly', 'outlaw', 'overwrought', 'paired', 'pals', 'pierre', 'placement', 'plagued', 'portions', 'profoundly', 'radiation', 'reckless', 'reese', 'regime', 'replacing', 'representative', 'representing', 'revolver', 'romania', 'rousing', 'russians', 'sammy', 'sensibilities', 'shelter', 'showcases', 'simons', 'slut', 'sorrow', 'spelled', 'staging', 'stares', 'steaming', 'stoned', 'strained', 'structured', 'subtitled', 'surf', 'switches', 'systems', 'temptation', 'tess', 'thereafter', 'tightly', 'torturing', 'transplant', 'trigger', 'tsui', 'uptight', 'vertigo', 'villa', 'weary', 'widower', 'yarn', '20s', 'aboard', 'abstract', 'accomplishment', 'adultery', 'aircraft', 'alarm', 'allies', 'alter', 'anchors', 'anti', 'apollo', 'atlantic', 'atrocity', 'aura', 'belle', 'benny', 'billing', 'bleeding', 'boogeyman', 'boost', 'booth', 'bothers', 'brit', 'byron', 'capitalism', 'ceiling', 'ceremony', 'chans', 'chemical', 'clarence', 'client', 'clockwork', 'cloth', 'clutter', 'cockney', 'collaboration', 'colman', 'condemned', 'confirmed', 'conniving', 'consumed', 'coop', 'correctness', 'crooked', 'crypt', 'darkly', 'dealers', 'defy', 'deservedly', 'developments', 'distinctly', 'dodgy', 'downbeat', 'dreamlike', 'drum', 'ebay', 'echo', 'edison', 'edmund', 'eh', 'emmy', 'engagement', 'ensue', 'establishment', 'ewoks', 'expresses', 'eyed', 'fanning', 'faye', 'fence', 'fewer', 'fierce', 'freed', 'funky', 'fuss', 'geniuses', 'gently', 'geoffrey', 'glow', 'golf', 'grandpa', 'haha', 'hans', 'hanzo', 'hurry', 'hypnotic', 'icons', 'illustrate', 'imho', 'impressions', 'increase', 'injustice', 'intellectually', 'intelligently', 'katie', 'knees', 'knocking', 'languages', 'lars', 'laser', 'latino', 'lawn', 'lds', 'ledger', 'liotta', 'loner', 'loony', 'madman', 'massey', 'mediocrity', 'methe', 'mira', 'modernday', 'movieits', 'muni', 'natali', 'nora', 'nuns', 'ogre', 'optimism', 'oscarwinning', 'owe', 'pia', 'pleasures', 'preferably', 'prefers', 'premiered', 'presume', 'prolific', 'puzzled', 'rapes', 'register', 'retirement', 'rockets', 'rogue', 'romanian', 'sara', 'sasquatch', 'satisfactory', 'scattered', 'seduction', 'sensation', 'shaun', 'shelves', 'shiny', 'shrill', 'significantly', 'sleeper', 'snowy', 'sophistication', 'spells', 'spotted', 'stirring', 'straighttovideo', 'subdued', 'sucking', 'supermarket', 'supportive', 'surgeon', 'sweeping', 'sykes', 'taime', 'tasty', 'threads', 'thug', 'transitions', 'travolta', 'tricked', 'undercover', 'underused', 'uninspiring', 'virtue', 'visconti', 'wielding', 'youngsters', 'zu', '150', '1957', '1964', '51', '700', 'abroad', 'alcoholism', 'alexandra', 'amoral', 'analyze', 'anxiety', 'appalled', 'applause', 'armor', 'arnie', 'artistically', 'astonishingly', 'attendant', 'attic', 'autobiography', 'backdrops', 'baddie', 'ballroom', 'bart', 'barton', 'behaving', 'bitchy', 'blackmail', 'bloke', 'bon', 'breakthrough', 'brennan', 'brick', 'bs', 'censors', 'chevy', 'christensen', 'cinematographic', 'comprised', 'conflicted', 'cowrote', 'cradle', 'cynicism', 'daria', 'darius', 'data', 'deborah', 'defining', 'della', 'denver', 'doris', 'drain', 'dunne', 'elder', 'electricity', 'encourages', 'exgirlfriend', 'extraordinarily', 'farrah', 'fellini', 'fetched', 'fighters', 'flamboyant', 'fleeing', 'fleeting', 'forbes', 'forsythe', 'freaked', 'fulfill', 'fulfilling', 'fur', 'gladiator', 'godard', 'goldsworthy', 'governments', 'grandparents', 'grendel', 'grisly', 'harilal', 'heartless', 'henderson', 'hugo', 'icy', 'il', 'illusion', 'imply', 'imprisoned', 'judgement', 'kalifornia', 'kilmer', 'knives', 'kristofferson', 'launched', 'lawyers', 'leaps', 'legion', 'lesbians', 'limp', 'lindsey', 'lists', 'lorre', 'lure', 'luthor', 'manipulate', 'mastermind', 'maturity', 'maurice', 'mishmash', 'mockery', 'mud', 'muriel', 'muscular', 'mutants', 'myra', 'nerdy', 'nifty', 'notwithstanding', 'oneill', 'operate', 'operating', 'oprah', 'overtly', 'pecker', 'pepper', 'perceived', 'peterson', 'photograph', 'plummer', 'potent', 'preacher', 'predictability', 'predicted', 'promoting', 'prone', 'proportions', 'protecting', 'proudly', 'rant', 'rapid', 'ravishing', 'redford', 'relates', 'reportedly', 'retrieve', 'rhyme', 'roads', 'robbing', 'rodney', 'romeros', 'roommates', 'scarier', 'sematary', 'shady', 'shocker', 'shout', 'simpler', 'slaughtered', 'sleepy', 'slips', 'slowmotion', 'springs', 'strain', 'succession', 'supports', 'taker', 'thereof', 'tina', 'traveled', 'trendy', 'trusted', 'unwilling', 'ursula', 'vaughn', 'verhoevens', 'visceral', 'willingly', 'wrongly', 'zany', 'zelah', 'zhang', '010', '27', '98', 'academic', 'alienation', 'antichrist', 'archer', 'associates', 'assortment', 'astronauts', 'athletic', 'attributes', 'auteur', 'aztec', 'behaves', 'benoit', 'bigfoot', 'bliss', 'bloodshed', 'bombed', 'booker', 'borderline', 'brunette', 'bullies', 'burden', 'cassie', 'castro', 'chandler', 'cheat', 'cheesiness', 'cheung', 'chop', 'civilians', 'climate', 'climbs', 'clubs', 'coal', 'compassionate', 'concentrated', 'confession', 'continuous', 'counted', 'counterpart', 'countrys', 'crass', 'curtain', 'dangers', 'denial', 'destructive', 'diaz', 'dillon', 'disasters', 'distinguished', 'dive', 'dodge', 'doses', 'dukakis', 'dwarf', 'eastwoods', 'ecstasy', 'elisha', 'enthralling', 'expand', 'expressing', 'fagin', 'fastforward', 'feared', 'fiasco', 'fitzgerald', 'flame', 'gardens', 'gays', 'giggle', 'glenda', 'gravity', 'gusto', 'hale', 'happier', 'harbor', 'hazzard', 'heather', 'heavenly', 'hector', 'heir', 'helmet', 'herrings', 'hilton', 'hunky', 'illustrated', 'imitating', 'immigrants', 'increasing', 'inducing', 'inhabited', 'innuendo', 'interspersed', 'irresistible', 'irresponsible', 'jam', 'jerky', 'jolly', 'kareena', 'kenny', 'kornbluth', 'lansbury', 'largest', 'levy', 'liar', 'lt', 'management', 'mandatory', 'marx', 'mcdermott', 'missions', 'miyazakis', 'moderately', 'movieand', 'natasha', 'needlessly', 'neverending', 'notions', 'nutty', 'observed', 'ossessione', 'overacts', 'overused', 'overwhelmed', 'padded', 'passions', 'patriotic', 'payne', 'peaks', 'pertwee', 'pistol', 'placing', 'poke', 'pour', 'prejudices', 'prolonged', 'quirks', 'ranger', 'ratio', 'recovering', 'recreation', 'recurring', 'redgrave', 'relaxing', 'reno', 'replay', 'ridden', 'rudd', 'sammi', 'scarlet', 'semi', 'seventh', 'shamelessly', 'shatner', 'shawn', 'sheridan', 'sibling', 'sixteen', 'sore', 'steamy', 'stumbling', 'superiors', 'supremacy', 'swords', 'tables', 'tacked', 'tango', 'tasks', 'temporary', 'terrorism', 'throne', 'tobe', 'tourists', 'treating', 'unconscious', 'unlucky', 'unnerving', 'upbringing', 'urgency', 'vaudeville', 'vibe', 'violently', 'virginity', 'wee', 'wolves', 'worship', 'wrath', 'wwi', '250', '48', 'adequately', 'afghanistan', 'alba', 'alienate', 'aniston', 'annoyingly', 'anonymous', 'approximately', 'architecture', 'astronaut', 'aweigh', 'awfulness', 'azumi', 'bald', 'beth', 'billion', 'bing', 'bishop', 'bonding', 'bothering', 'btk', 'buildup', 'bursts', 'camps', 'casually', 'celine', 'chocolate', 'coaster', 'cocktail', 'collecting', 'companions', 'compositions', 'concentrates', 'concludes', 'connor', 'consisted', 'contemplate', 'coppola', 'cortez', 'coverage', 'crenna', 'crowds', 'custody', 'customs', 'dani', 'darling', 'dickinson', 'disappearing', 'discernible', 'disdain', 'dogma', 'dopey', 'dreadfully', 'drugged', 'efficient', 'elevate', 'elmer', 'embarrass', 'enhances', 'existential', 'expanded', 'exwife', 'fable', 'fallon', 'farnsworth', 'featurelength', 'finely', 'firsttime', 'flipping', 'footsteps', 'frenzy', 'gannon', 'gimmicks', 'goofs', 'gosh', 'grady', 'guru', 'herethe', 'hesitate', 'hmm', 'hmmm', 'holland', 'honey', 'honeymoon', 'hopeful', 'hustler', 'idiocy', 'improvised', 'incompetence', 'inherited', 'intellect', 'irrational', 'itd', 'izzard', 'joshua', 'keitel', 'knack', 'lang', 'lastly', 'lecture', 'lin', 'liz', 'lowbrow', 'luzhin', 'ma', 'maguire', 'marathon', 'martino', 'mcdowell', 'meanings', 'mechanic', 'melt', 'meyers', 'midler', 'midway', 'mindset', 'monday', 'montages', 'muted', 'nailed', 'neeson', 'neglect', 'nerds', 'noam', 'opponents', 'outs', 'palestinian', 'paragraph', 'penalty', 'penis', 'perceive', 'percent', 'poet', 'pond', 'posh', 'practices', 'prices', 'princes', 'profile', 'prophet', 'psychiatric', 'pub', 'purse', 'rapture', 'regrets', 'reincarnation', 'relied', 'restless', 'richly', 'rko', 'roach', 'rotting', 'rusty', 'sack', 'sarne', 'scandal', 'screamed', 'seal', 'segal', 'sessions', 'sinatras', 'skipping', 'slew', 'sm', 'smarmy', 'spinning', 'spitting', 'stalks', 'stereotyping', 'stretches', 'stripper', 'stupidest', 'swiss', 'theo', 'thorn', 'thumb', 'torch', 'transformers', 'traumatized', 'truthful', 'unemployed', 'valerie', 'vault', 'versa', 'vets', 'vienna', 'volumes', 'vulnerability', 'whip', 'whipped', 'woke', 'worm', 'y', 'yearning', 'zabriskie', '18th', '1931', '1938', '1949', '2009', 'acknowledged', 'adopt', 'adventurous', 'albums', 'alternately', 'apartheid', 'apologize', 'apprentice', 'architect', 'assist', 'association', 'atomic', 'babysitter', 'backwoods', 'balloon', 'barbarian', 'bash', 'bearable', 'believer', 'betrays', 'bolivia', 'bombing', 'braindead', 'branch', 'brink', 'bucket', 'bury', 'callahan', 'candidates', 'capt', 'caution', 'chapters', 'chewing', 'chock', 'choke', 'citys', 'cocky', 'coleman', 'collar', 'compromise', 'conception', 'condescending', 'conduct', 'confronting', 'conquest', 'continent', 'converted', 'corbin', 'corridors', 'cowritten', 'creeps', 'daisies', 'daphne', 'december', 'delve', 'democracy', 'dental', 'diabolical', 'discussions', 'documents', 'downtown', 'durbin', 'duryea', 'dusty', 'dyke', 'eliminate', 'ella', 'elliot', 'empathize', 'everybodys', 'examined', 'explanations', 'fanatics', 'farewell', 'fatherson', 'flip', 'floriane', 'friendships', 'fugitive', 'fulllength', 'gage', 'garnered', 'gi', 'goers', 'goodthe', 'grain', 'graves', 'guided', 'harlem', 'harrys', 'healing', 'hitchhiker', 'horn', 'hug', 'immersed', 'impeccable', 'insanely', 'insects', 'insignificant', 'islam', 'italians', 'it´s', 'january', 'jock', 'keeler', 'kerr', 'kiddie', 'kramer', 'lange', 'lightly', 'limbs', 'listing', 'locales', 'looney', 'loop', 'lovingly', 'lubitsch', 'lucio', 'lung', 'lyrical', 'maiden', 'marred', 'maverick', 'melinda', 'metropolis', 'micheal', 'mold', 'monstrous', 'mostel', 'mourning', 'moviethis', 'murphys', 'naval', 'norton', 'oddball', 'oppressive', 'outrage', 'passenger', 'pauses', 'penguin', 'planted', 'plants', 'postmodern', 'pranks', 'premises', 'preteen', 'prevalent', 'prevented', 'profit', 'proverbial', 'rack', 'rebecca', 'recipe', 'regain', 'regal', 'rehearsal', 'rests', 'revive', 'rico', 'ripoffs', 'rizzo', 'rosenstrasse', 'rushes', 'saddest', 'shakespearean', 'shaolin', 'shootings', 'sleuth', 'slipped', 'sloane', 'slows', 'smarter', 'snappy', 'snippets', 'sparse', 'spectacularly', 'squeeze', 'stature', 'stepped', 'stoic', 'strikingly', 'submit', 'subtleties', 'suggestive', 'supporters', 'surpasses', 'suspended', 'tenants', 'tensions', 'tested', 'thankful', 'thatll', 'throats', 'uncredited', 'undeveloped', 'vengeful', 'vera', 'versatile', 'victorias', 'waits', 'walters', 'weaver', 'welcomed', 'wipe', 'wisecracking', 'wits', 'zealand', '400', '500', 'achieving', 'administration', 'admirably', 'ahmad', 'allegedly', 'allison', 'amok', 'anchor', 'andersons', 'ash', 'assassins', 'backyard', 'barker', 'batwoman', 'benson', 'bets', 'carlito', 'carnival', 'carole', 'caroline', 'carson', 'casted', 'cathy', 'celebrating', 'cheaper', 'chore', 'cillian', 'classified', 'cloud', 'comicbook', 'confirm', 'connecting', 'connolly', 'cruella', 'culkin', 'darkest', 'dense', 'desolate', 'dimwitted', 'disgruntled', 'distributors', 'duff', 'duties', 'edits', 'entertainer', 'episodic', 'eponymous', 'equals', 'evolved', 'exhibit', 'expertise', 'exposing', 'fireworks', 'flee', 'floors', 'forgivable', 'gaining', 'gamut', 'garcia', 'gen', 'gesture', 'glee', 'goodnatured', 'granger', 'grips', 'grumpy', 'guevara', 'haired', 'hardest', 'harmony', 'hating', 'heroin', 'hisher', 'hispanic', 'hockey', 'hogan', 'holidays', 'hoods', 'hungarian', 'hurting', 'illiterate', 'illustrates', 'insulted', 'interpreted', 'intestines', 'intruder', 'irs', 'janitor', 'jessie', 'joanna', 'kaufman', 'kentucky', 'kindness', 'kinky', 'lamas', 'layered', 'lineup', 'lizard', 'locks', 'lotr', 'marquis', 'matching', 'millennium', 'mining', 'mischievous', 'misplaced', 'mocking', 'moonstruck', 'morgana', 'mutated', 'nineties', 'norma', 'norwegian', 'november', 'nuance', 'obscene', 'organs', 'oriental', 'outta', 'outtakes', 'overseas', 'overt', 'palette', 'partial', 'pauls', 'philadelphia', 'pita', 'platoon', 'plotted', 'practicing', 'prehistoric', 'presumed', 'prototype', 'psychologically', 'rainer', 'ranging', 'recalls', 'render', 'requisite', 'retain', 'revelations', 'rightfully', 'rigid', 'rollercoaster', 'rugged', 'sacrificed', 'satellite', 'sciencefiction', 'seinfeld', 'sentenced', 'shack', 'shouts', 'siege', 'smitten', 'smoothly', 'snatch', 'societies', 'sorvino', 'soulless', 'spectrum', 'spielbergs', 'stimulating', 'strangest', 'straw', 'stubborn', 'surfers', 'surrogate', 'swamp', 'switzerland', 'tedium', 'telly', 'thatthe', 'therein', 'til', 'toss', 'tucker', 'unborn', 'undertaker', 'unimpressive', 'universally', 'untrue', 'vanishing', 'variations', 'villagers', 'voiceovers', 'weirdo', 'welch', 'wheels', 'witless', 'wondrous', 'woven', '1942', 'acquire', 'adapting', 'addresses', 'addressing', 'affections', 'aiello', 'aims', 'alli', 'allied', 'alligator', 'anchorman', 'answering', 'aristocrat', 'arizona', 'atrocities', 'attributed', 'badass', 'badthe', 'bathing', 'beau', 'behalf', 'bgrade', 'blaxploitation', 'blink', 'bogdanovich', 'bonham', 'booze', 'bravery', 'breathless', 'brits', 'bruckheimer', 'bryan', 'campers', 'capitalize', 'capsule', 'caruso', 'cbc', 'chains', 'chat', 'chef', 'clumsily', 'coarse', 'colourful', 'compound', 'consisting', 'corky', 'cracker', 'crawl', 'criminally', 'crop', 'crow', 'culminating', 'dane', 'darkman', 'deathstalker', 'decapitated', 'deception', 'directorwriter', 'documented', 'draft', 'drifter', 'dripping', 'drums', 'dw', 'emerged', 'employ', 'employs', 'ensuing', 'exceedingly', 'exhausted', 'existent', 'exposes', 'extremes', 'exudes', 'faux', 'ferry', 'flamenco', 'forum', 'frenchman', 'gee', 'geeks', 'gifts', 'gilligans', 'gladly', 'goo', 'greta', 'grounded', 'hamill', 'hammerhead', 'handy', 'hardships', 'hawaii', 'hedy', 'helena', 'hiring', 'historians', 'honorable', 'hosts', 'imdbs', 'inc', 'inch', 'indulge', 'insisted', 'instruments', 'integrated', 'interpret', 'irwin', 'itchy', 'itits', 'jackass', 'jed', 'jew', 'kingsley', 'kisses', 'lambs', 'lap', 'leia', 'lieutenant', 'll', 'logo', 'mac', 'malcolm', 'mamet', 'marvellous', 'mastroianni', 'miracles', 'mj', 'monastery', 'monstrosity', 'monumental', 'motif', 'napoleon', 'olympic', 'onesided', 'onethe', 'operas', 'orgy', 'orphanage', 'ounce', 'owning', 'pam', 'participation', 'patch', 'pavarotti', 'pets', 'phyllis', 'plantation', 'pokes', 'polite', 'poppins', 'portman', 'positions', 'praying', 'preserved', 'prevents', 'pursues', 'puzzling', 'rabid', 'redeemed', 'request', 'rerun', 'retrospect', 'rewatch', 'sacred', 'sans', 'schemes', 'secluded', 'shadowy', 'shakes', 'shrink', 'singin', 'skimpy', 'slowmoving', 'slug', 'smallest', 'smalltown', 'societal', 'soles', 'spaces', 'spears', 'spoton', 'spreading', 'stealth', 'stills', 'stir', 'streak', 'streisands', 'stripped', 'supplies', 'swat', 'swift', 'tasteful', 'tearjerker', 'teddy', 'tepid', 'texture', 'thisthe', 'transcends', 'transferred', 'transform', 'twodimensional', 'underdog', 'undertones', 'unfairly', 'unfinished', 'unnamed', 'unrated', 'unsuccessful', 'usage', 'viggo', 'voters', 'voting', 'wb', 'weaves', 'wellthe', 'wicker', 'wills', 'zatoichi', '1954', '1965', '510', 'abominable', 'actorsactresses', 'adored', 'allegory', 'announces', 'approval', 'arbitrary', 'aspirations', 'astonished', 'ate', 'awakens', 'backing', 'basil', 'bathtub', 'beef', 'beta', 'bicycle', 'blackie', 'blends', 'blessing', 'blinded', 'botched', 'boyish', 'calculated', 'carface', 'chairman', 'chimney', 'choreographer', 'claw', 'coincidences', 'compares', 'competently', 'competing', 'complains', 'conceit', 'connects', 'corporations', 'cowriter', 'creepiness', 'crook', 'crummy', 'dares', 'declares', 'decoration', 'defines', 'delia', 'departments', 'detracts', 'diamonds', 'differ', 'diver', 'downside', 'downward', 'drained', 'dreamed', 'eddy', 'edwards', 'eggs', 'enthralled', 'ethics', 'evolve', 'excesses', 'excrement', 'fantastically', 'fiennes', 'fleming', 'flood', 'formidable', 'fosters', 'frenetic', 'giggles', 'grants', 'greats', 'grieving', 'guarded', 'gym', 'halt', 'hayden', 'heiress', 'herein', 'heritage', 'heshe', 'hesitation', 'hg', 'hightech', 'historian', 'hoover', 'horizon', 'iceberg', 'infidelity', 'insecure', 'inspires', 'integral', 'iowa', 'jameson', 'jovi', 'joyous', 'kamal', 'keeper', 'kerry', 'keyboard', 'knox', 'laden', 'ladys', 'lampoons', 'lanza', 'leno', 'liza', 'lombard', 'loudly', 'macbeth', 'madly', 'maintained', 'mannered']\n"
          ],
          "name": "stdout"
        }
      ]
    },
    {
      "cell_type": "code",
      "metadata": {
        "id": "gKBRgc4UYfjf"
      },
      "source": [
        "def vectorize(review_string, vocab):\n",
        "  ### Answer starts here ###\n",
        "  bin_bag_words_vector = np.zeros(len(vocab))\n",
        "\n",
        "  #store words as set for O(1) look up time\n",
        "  review_words = set(review_string.split())\n",
        "\n",
        "  for i, ith_common_word in enumerate(vocab):\n",
        "    if ith_common_word in review_words:\n",
        "      bin_bag_words_vector[i] = 1\n",
        "\n",
        "  return bin_bag_words_vector\n",
        "  ### Answer ends here ###"
      ],
      "execution_count": 12,
      "outputs": []
    },
    {
      "cell_type": "markdown",
      "metadata": {
        "id": "A7UHbv8SLiz7"
      },
      "source": [
        "Test your function with the following input. The vector should have four \"1\"s."
      ]
    },
    {
      "cell_type": "code",
      "metadata": {
        "id": "7ohyWmFCeknM",
        "outputId": "44bf6c10-36d4-4019-cd13-4f9305376336",
        "colab": {
          "base_uri": "https://localhost:8080/",
          "height": 50
        }
      },
      "source": [
        "vector = vectorize(\"the and a of zyxw\", vocabulary)\n",
        "print(vector)\n",
        "print(sum(vector))"
      ],
      "execution_count": 13,
      "outputs": [
        {
          "output_type": "stream",
          "text": [
            "[1. 1. 1. ... 0. 0. 0.]\n",
            "4.0\n"
          ],
          "name": "stdout"
        }
      ]
    },
    {
      "cell_type": "markdown",
      "metadata": {
        "id": "Nn4UER2SL96P"
      },
      "source": [
        "Now, vectorize the whole dataset. "
      ]
    },
    {
      "cell_type": "code",
      "metadata": {
        "id": "gUU0n_zsMvfv",
        "outputId": "c877e806-0f89-4ef1-cea4-a45f95ca938f",
        "colab": {
          "base_uri": "https://localhost:8080/",
          "height": 50
        }
      },
      "source": [
        "print(datetime.now().strftime(\"%H:%M:%S.%f\"))\n",
        "### Answer starts here ###\n",
        "X_train_vect = []\n",
        "\n",
        "for review in X_train:\n",
        "  X_train_vect.append(vectorize(review,vocabulary))\n",
        "\n",
        "### Answer ends here ###\n",
        "print(datetime.now().strftime(\"%H:%M:%S.%f\"))"
      ],
      "execution_count": 18,
      "outputs": [
        {
          "output_type": "stream",
          "text": [
            "02:47:21.828333\n",
            "02:47:45.383842\n"
          ],
          "name": "stdout"
        }
      ]
    },
    {
      "cell_type": "code",
      "metadata": {
        "id": "N4U6rj0PQUjE",
        "outputId": "f3404d45-9a92-4aa7-fb14-1c6b60341966",
        "colab": {
          "base_uri": "https://localhost:8080/",
          "height": 353
        }
      },
      "source": [
        "for i in range(5):\n",
        "  print_review(X_train_vect[i], y_train[i])"
      ],
      "execution_count": 19,
      "outputs": [
        {
          "output_type": "stream",
          "text": [
            "--------------- Review with score of -1 ---------------\n",
            "[1. 1. 1. ... 0. 0. 0.]\n",
            "------------------------------------------------------\n",
            "\n",
            "--------------- Review with score of 1 ---------------\n",
            "[1. 1. 1. ... 0. 0. 0.]\n",
            "------------------------------------------------------\n",
            "\n",
            "--------------- Review with score of -1 ---------------\n",
            "[1. 1. 1. ... 0. 0. 0.]\n",
            "------------------------------------------------------\n",
            "\n",
            "--------------- Review with score of -1 ---------------\n",
            "[1. 1. 1. ... 0. 0. 0.]\n",
            "------------------------------------------------------\n",
            "\n",
            "--------------- Review with score of 1 ---------------\n",
            "[1. 1. 1. ... 0. 0. 0.]\n",
            "------------------------------------------------------\n",
            "\n"
          ],
          "name": "stdout"
        }
      ]
    },
    {
      "cell_type": "markdown",
      "metadata": {
        "id": "hzNo-5oNRXz6"
      },
      "source": [
        "For convenience, we will write a function called `preprocess_sample_point` which takes as input a single raw review and ouputs its binary bag-of-words representation."
      ]
    },
    {
      "cell_type": "code",
      "metadata": {
        "id": "BO9Ge_lwMwEP"
      },
      "source": [
        "def preprocess_sample_point(review, vocab):\n",
        "  return vectorize(clean(review), vocab)"
      ],
      "execution_count": 20,
      "outputs": []
    },
    {
      "cell_type": "code",
      "metadata": {
        "id": "4-Wg-6UKrH8t",
        "outputId": "6d0e8bf4-9be3-47f7-c98a-60ddb039a318",
        "colab": {
          "base_uri": "https://localhost:8080/",
          "height": 50
        }
      },
      "source": [
        "vectorized_review = preprocess_sample_point(\n",
        "    'The movie was not bad, it was really good!', vocabulary)\n",
        "print(sum(vectorized_review))\n",
        "print(vectorized_review)"
      ],
      "execution_count": 21,
      "outputs": [
        {
          "output_type": "stream",
          "text": [
            "8.0\n",
            "[1. 0. 0. ... 0. 0. 0.]\n"
          ],
          "name": "stdout"
        }
      ]
    },
    {
      "cell_type": "markdown",
      "metadata": {
        "id": "co54Ubd5QJDN"
      },
      "source": [
        "### Question 2.3 Preparing the test set\n",
        "\n",
        "Now that we have defined a cleaning function and extracted the features from the train set, we are ready to preprocess the test set. Implement the `preprocess` function below such that it:\n",
        "\n",
        "1. Loads the raw data from a csv file \n",
        "2. Cleans and vectorizes the reviews\n",
        "3. Converts the scores to `int`\n",
        "4. Returns the data into a  `(X_test, y_test)` tuple"
      ]
    },
    {
      "cell_type": "code",
      "metadata": {
        "id": "TBoumQUSMvXD"
      },
      "source": [
        "def preprocess(csv_filename, vocab):\n",
        "  ### Answer starts here ###\n",
        "  with open(csv_filename) as csv_file:\n",
        "    csv_reader = csv.reader(csv_file)\n",
        "    colnames = next(csv_reader)  # skip column names\n",
        "    data = list(csv_reader)\n",
        "  \n",
        "  X = []\n",
        "  y = []\n",
        "  for review, score in data:\n",
        "    X.append(vectorize(clean(review), vocab))\n",
        "    y.append(int(score))\n",
        "\n",
        "  return (X, y)\n",
        "  ### Answer ends here ###"
      ],
      "execution_count": 22,
      "outputs": []
    },
    {
      "cell_type": "code",
      "metadata": {
        "id": "t84s9ir_ekgA",
        "outputId": "3fec17c1-e71a-4f6b-8d02-cdc6c56ea590",
        "colab": {
          "base_uri": "https://localhost:8080/",
          "height": 202
        }
      },
      "source": [
        "!wget https://raw.githubusercontent.com/McGillAISociety/BootcampAssignmentDatasets/master/data/assignment2/test_reviews.csv"
      ],
      "execution_count": 23,
      "outputs": [
        {
          "output_type": "stream",
          "text": [
            "--2020-10-27 02:49:51--  https://raw.githubusercontent.com/McGillAISociety/BootcampAssignmentDatasets/master/data/assignment2/test_reviews.csv\n",
            "Resolving raw.githubusercontent.com (raw.githubusercontent.com)... 151.101.0.133, 151.101.64.133, 151.101.128.133, ...\n",
            "Connecting to raw.githubusercontent.com (raw.githubusercontent.com)|151.101.0.133|:443... connected.\n",
            "HTTP request sent, awaiting response... 200 OK\n",
            "Length: 32551850 (31M) [text/plain]\n",
            "Saving to: ‘test_reviews.csv’\n",
            "\n",
            "test_reviews.csv    100%[===================>]  31.04M  38.5MB/s    in 0.8s    \n",
            "\n",
            "2020-10-27 02:49:52 (38.5 MB/s) - ‘test_reviews.csv’ saved [32551850/32551850]\n",
            "\n"
          ],
          "name": "stdout"
        }
      ]
    },
    {
      "cell_type": "code",
      "metadata": {
        "id": "FYdinHq9UYWU"
      },
      "source": [
        "X_test, y_test = preprocess('test_reviews.csv', vocabulary)"
      ],
      "execution_count": 24,
      "outputs": []
    },
    {
      "cell_type": "code",
      "metadata": {
        "id": "RGKPj6iozEtS",
        "outputId": "990b9e4f-c993-4559-b554-1780ef915507",
        "colab": {
          "base_uri": "https://localhost:8080/",
          "height": 353
        }
      },
      "source": [
        "for i in range(5):\n",
        "  print_review(X_test[i], y_test[i])"
      ],
      "execution_count": 25,
      "outputs": [
        {
          "output_type": "stream",
          "text": [
            "--------------- Review with score of -1 ---------------\n",
            "[1. 1. 1. ... 0. 0. 0.]\n",
            "------------------------------------------------------\n",
            "\n",
            "--------------- Review with score of -1 ---------------\n",
            "[1. 0. 1. ... 0. 0. 0.]\n",
            "------------------------------------------------------\n",
            "\n",
            "--------------- Review with score of 1 ---------------\n",
            "[1. 1. 1. ... 0. 0. 0.]\n",
            "------------------------------------------------------\n",
            "\n",
            "--------------- Review with score of -1 ---------------\n",
            "[1. 1. 1. ... 0. 0. 0.]\n",
            "------------------------------------------------------\n",
            "\n",
            "--------------- Review with score of 1 ---------------\n",
            "[1. 1. 1. ... 0. 0. 0.]\n",
            "------------------------------------------------------\n",
            "\n"
          ],
          "name": "stdout"
        }
      ]
    },
    {
      "cell_type": "markdown",
      "metadata": {
        "id": "hEIhyms7N3oo"
      },
      "source": [
        "\n",
        "##3. Naive Bayes\n",
        "Later in this assignment, we will use pre-existing implementations of two types of models: random forests and support vector machines. However, we will start first by implementing from sratch a third type of classifier: naive Bayes classifers. Unfortunately, Naives Bayes performs poorly on this dataset and you should expect accuracies around ~40%. Regardless, implementing it from scratch will be a good learning experience. \n",
        "\n",
        "Naive Bayes classifiers are part of a larger family of classifiers which are called 'probabilistic classifiers': not only do they try to predict classes given features, but they also estimate probability distributions over a set of classes.\n",
        "\n",
        "First, let's will go over some definitions:\n",
        "\n",
        "**Definition:** A *prior probability* is the likelihood of an event given no further assumptions. For instance, the probability that it's raining is relatively low.\n",
        "\n",
        "**Definiton:** A *posterior probability* or *conditional probability* is the likelihood of an event given that some other event has occurred. For instance, the probability that it's raining given that there are clouds is higher than if we don't make that assumption.\n",
        "\n",
        "Now we will go over some motivation:\n",
        "\n",
        "For the purpose of argument, imagine we had access to the probability distribution $\\Pr$. That is, we know how likely features and classes are. For example, $\\Pr(x_1 = 1)$ is the probability that the most common word, i.e. \"the\", is in a random movie review. Presumably, this probability is relatively high. As a second example, $\\Pr(y = 1)$ is the probability that a random movie review is 'good'. In our case, this would be somewhere close to 0.67.\n",
        "\n",
        "Since we hypothetically have access to the whole probability distribution, we also know conditional probabilities. For instance, we would know $\\Pr(y = 0 \\; \\vert \\; x_1 = 0)$, which is the probability that a random review is 'bad', given that it does not contain the word \"the\".\n",
        "\n",
        "Given a probability distribution, we can find an optimal classifier which simply picks the class which maximizes the probability that we will see that class given the observed features, in other words our classifier $f: \\B^n \\to \\B$ is given by:\n",
        "\n",
        "$$ f(x_1, \\ldots, x_n) = \\argmax_{c \\in \\B} \\Pr(y = c \\given x_1, \\ldots, x_n ).$$\n",
        "\n",
        "Where $\\argmax$ returns the element in $\\B$ which maximizes the expression to its right, and $\\B$ is the set with two elements, $\\{0, 1\\}$. For example, we have\n",
        "$$ \\argmax_{x \\in \\R} (x - x^2) = \\frac 1 2, $$\n",
        "since $\\frac 1 2$ maximizes the expression $x - x^2$.\n",
        "\n",
        "It would be great if we had access to the probability distribution $\\Pr$, but unfortunately we don't in almost every case. This means we wish to try to estimate it given some samples, i.e. the training data.\n",
        "\n",
        "However, we run into another issue: estimating the probability distribution is computionally expensive. Therefore, we assume that the different features are independent from one another. This is called the *naive conditional independence assumption*. In other words, we assume that\n",
        "\n",
        "$$ \\forall i \\in \\{1, \\ldots, n\\} : \\Pr (x_i \\given y, x_1, \\ldots, x_{i-1}, x_{i+1}, \\ldots, x_n) = \\Pr(x_i \\given y).$$\n",
        "\n",
        "Using Bayes' Theorem, we can simplify the conditional independence assumption to:\n",
        "\n",
        "$$\\Pr(y \\given x_1, \\ldots, x_n) = \\frac{\\Pr(y) \\prod_{i=1}^n \\Pr(x_i \\given y)}{\\Pr(x_1, \\ldots, x_n)}.$$\n",
        "\n",
        "However, we can observe that the denominator is constant for a given input, so it's not actually necesarry to estimate it if all we want is to find the class with the maximum posterior probability. In other words,\n",
        "\n",
        "$$ \\Pr(y \\given x_1, \\ldots, x_n) \\propto \\Pr(y) \\prod_{i=1}^n \\Pr(x_i \\given y), $$\n",
        "\n",
        "so, our classification rule becomes\n",
        "\n",
        "$$ f(x_1, \\ldots, x_n) = \\argmax_{y \\in \\B} \\Pr(y) \\prod _{i=1}^n \\Pr(x_i \\given y).$$\n",
        "\n",
        "Where $\\propto$ means \"proportional to\" and  $\\prod_{i = 1}^n g(i)$ is like summation $\\left(\\sum_{i=1}^n g(i)\\right)$, except that addition is replaced with multiplication. For example,\n",
        "\n",
        "$$\\prod_{i = 1}^5 i^2 = 1^2 \\cdot 2^2 \\cdot 3^2 \\cdot 4^2 \\cdot 5^2.$$\n",
        "\n",
        "**Note**: To estimate prior and conditional probabilities, we use the ratios of occurence counts found in the dataset. For example, to estimate $\\Pr(x_1 = 0 \\; \\vert \\; y = 0)$, we have to calculate the number of instances of class zero for which $x_1 = 0$ and divide them by the number of instances of class 0.\n",
        "\n",
        "**Note**: The naive independence assumption is usually false in practice for most features. Therefore, the resulting estimated probability distribution is usually a bad approximation of the true distribution. However, the resulting classifier often has a good performance, depending on the dataset."
      ]
    },
    {
      "cell_type": "markdown",
      "metadata": {
        "id": "fN-dse1NBQnk"
      },
      "source": [
        "### Quesiton 3.1 Estimating the Probability Distribution\n",
        "\n",
        "It would be expensive to re-estimate prior and posterior probabilities every time, so we should save probabilities in memory.\n",
        "\n",
        "Thus, you will need to save\n",
        "1. $\\Pr(y)$ for each $y \\in \\B$, and\n",
        "2. $\\Pr(x_i = u \\; \\vert \\; y)$ for each $ i \\in \\{1, \\ldots, n\\}$, $u \\in \\mathbb{B}$ and $y \\in \\mathbb{B}$.\n",
        "\n",
        "Remember that you are *estimating* the probabilities using the training set only."
      ]
    },
    {
      "cell_type": "code",
      "metadata": {
        "id": "9-KrWs3DER_R"
      },
      "source": [
        "### Answer starts here ###\n",
        "#1. Pr(y) for each y in Bool set, y = labels = movie scores\n",
        "pos_freq = 0\n",
        "neg_freq = 0\n",
        "\n",
        "post_probs_pos = np.zeros(len(vocabulary))\n",
        "post_probs_neg = np.zeros(len(vocabulary))\n",
        "\n",
        "#for loop so i only have to iterate through data once\n",
        "for i,val in enumerate(y_train):\n",
        "  if val == 1:\n",
        "    pos_freq += 1\n",
        "    post_probs_pos = post_probs_pos + X_train_vect[i]\n",
        "  else:\n",
        "    neg_freq += 1\n",
        "    post_probs_neg = post_probs_neg + X_train_vect[i]\n",
        "\n",
        "prior_probs_y = [neg_freq/len(y_train), pos_freq/len(y_train)]\n",
        "\n",
        "#2. Calculate all post probs where y=1(pos) and y=-1(neg)\n",
        "\n",
        "post_probs_pos = post_probs_pos / pos_freq\n",
        "post_probs_neg = post_probs_neg / neg_freq\n",
        "### Answer ends here ###"
      ],
      "execution_count": null,
      "outputs": []
    },
    {
      "cell_type": "markdown",
      "metadata": {
        "id": "wfCjr-JrEJya"
      },
      "source": [
        "### Question 3.2 Creating the Naive Bayes Classifier\n",
        "\n",
        "Create a function called `naive_bayes` which will take as input a list of features $x_1, \\ldots, x_n$ and outputs the class with the largest posterior probability given the input features."
      ]
    },
    {
      "cell_type": "code",
      "metadata": {
        "id": "sfKW9cZs4x-N"
      },
      "source": [
        "def naive_bayes(vec):\n",
        "  ### Answer starts here ###  \n",
        "  probs_zero = [post_probs_neg[i] if val==1 else (1-post_probs_neg[i]) for i,val in enumerate(vec)]\n",
        "  prod_cond_probs_class_zero = np.product(probs_zero)\n",
        "\n",
        "  probs_one = [post_probs_pos[i] if val==1 else (1-post_probs_pos[i]) for i,val in enumerate(vec)]\n",
        "  prod_cond_probs_class_one = np.product(probs_one)\n",
        "  \n",
        "  #@grader my classifier throws numpy division by zero errors in reviews 15,16 iirc \n",
        "  #when running this on the training set so there's probably an\n",
        "  #error somewhere in my naive bayes classifier!\n",
        "  #To handle those two without having runtime exceptions I just set\n",
        "  #the denominator to 1 so it wouldn't mess up the grading\n",
        "  #just letting you know I know there's a mistake smwhere! \n",
        "  #Hope you're having a nice time grading!\n",
        "  denominator = (prod_cond_probs_class_one + prod_cond_probs_class_zero)\n",
        "  if denominator == 0:\n",
        "    denominator = 1\n",
        "  \n",
        "  #calculate p(y=0|features)\n",
        "  cond_probs_zero = (prior_probs_y[0]*prod_cond_probs_class_zero)/denominator\n",
        "  #calcualte p(y=1|features)\n",
        "  cond_probs_one = (prior_probs_y[1]*prod_cond_probs_class_one)/denominator\n",
        "  \n",
        "  return 1 if cond_probs_one > cond_probs_zero else -1\n",
        "  ### Answer ends here ###"
      ],
      "execution_count": 28,
      "outputs": []
    },
    {
      "cell_type": "markdown",
      "metadata": {
        "id": "l1iGVZtkE5fF"
      },
      "source": [
        "### Question 3.3 Measuring Performance\n",
        "\n",
        "Using the naive Bayes classifier, predict the classes for each sample point in the training set as well as the test set and print accuracies.\n",
        "\n",
        "**Note:** You should get train and test accuracies of about 80-85%.\n",
        "\n",
        "**Hint:** You can use the `accuracy_score` function provided by `sklearn.metrics`"
      ]
    },
    {
      "cell_type": "code",
      "metadata": {
        "id": "7SjmIjYPSW10",
        "outputId": "b0069cdd-db98-45ed-aee3-ea51aa248ad3",
        "colab": {
          "base_uri": "https://localhost:8080/",
          "height": 84
        }
      },
      "source": [
        "### Answer starts here ###\n",
        "#@grader This takes like 15 minutes to converge zzz so there's probabably\n",
        "#a better implementation of naive bayes than what i did above\n",
        "print(datetime.now().strftime(\"%H:%M:%S.%f\"))\n",
        "\n",
        "#get training accuracies\n",
        "y_pred_train = [naive_bayes(X_train_vect[i]) for i in range(len(X_train_vect))]\n",
        "print(\"Training Accuracy:\", metrics.accuracy_score(y_pred_train, y_train))\n",
        "\n",
        "#Get testing accuracy\n",
        "y_pred = [naive_bayes(vec) for vec in X_test]\n",
        "print(\"Training Accuracy:\", metrics.accuracy_score(y_pred, y_test))\n",
        "\n",
        "print(datetime.now().strftime(\"%H:%M:%S.%f\"))\n",
        "### Answer ends here ###"
      ],
      "execution_count": 29,
      "outputs": [
        {
          "output_type": "stream",
          "text": [
            "03:03:41.777548\n",
            "Training Accuracy: 0.8214728589143566\n",
            "Training Accuracy: 0.8023120924836994\n",
            "03:18:17.798036\n"
          ],
          "name": "stdout"
        }
      ]
    },
    {
      "cell_type": "code",
      "metadata": {
        "id": "s2ZbGmYj2WnZ",
        "outputId": "a9509e85-1377-474c-acb9-216b522a449f",
        "colab": {
          "base_uri": "https://localhost:8080/",
          "height": 50
        }
      },
      "source": [
        "print(naive_bayes(preprocess_sample_point(\n",
        "    'Terrible. Horrible. Boring. This movie is bad', vocabulary)))\n",
        "\n",
        "print(naive_bayes(preprocess_sample_point(\n",
        "    'This movie was pretty good', vocabulary)))"
      ],
      "execution_count": 30,
      "outputs": [
        {
          "output_type": "stream",
          "text": [
            "-1\n",
            "1\n"
          ],
          "name": "stdout"
        }
      ]
    },
    {
      "cell_type": "markdown",
      "metadata": {
        "id": "D-azU55RKk-s"
      },
      "source": [
        "## 4. Support Vector Machines\n",
        "\n",
        "Quick recap of SVM: A support vector classifier tries to find the best separating hyperplane through the data. If the data is linearly separable, it finds a hyperplane that maximizes the margin. If it isn't, the classifier tries to minimize the cost associated with misclassifying points.\n",
        "\n"
      ]
    },
    {
      "cell_type": "markdown",
      "metadata": {
        "id": "YKLBuWjmAKoJ"
      },
      "source": [
        "### Question 4.1 Creating a Support Vector Classifier\n",
        "Using `scikit-learn`, create a support vector classifier for our review data.\n",
        "\n",
        "1. Use `scikit-learn` to create a linear support vector classifer (name it `svm_clf`)\n",
        "2. Fit the model to our training set\n",
        "3. Print training accuracy\n",
        "4. Print test accuracy"
      ]
    },
    {
      "cell_type": "code",
      "metadata": {
        "id": "11h5qZgArCLb",
        "outputId": "8a3dbd7d-08f2-4193-bd63-f96a5f67cb09",
        "colab": {
          "base_uri": "https://localhost:8080/",
          "height": 50
        }
      },
      "source": [
        "### Answer starts here ###\n",
        "#Fit model\n",
        "svm_clf = svm.LinearSVC(max_iter=5000)\n",
        "svm_clf.fit(X_train_vect, y_train)\n",
        "\n",
        "#Print training accuracy\n",
        "y_train_pred = svm_clf.predict(X_train_vect)\n",
        "print(\"Training Accuracy:\", metrics.accuracy_score(y_train_pred, y_train))\n",
        "\n",
        "#Print test accuracy\n",
        "y_pred = svm_clf.predict(X_test)\n",
        "print(\"Test Accuracy:\", metrics.accuracy_score(y_test, y_pred))\n",
        "### Answer ends here ###"
      ],
      "execution_count": 31,
      "outputs": [
        {
          "output_type": "stream",
          "text": [
            "Training Accuracy: 0.999959998399936\n",
            "Test Accuracy: 0.8360734429377175\n"
          ],
          "name": "stdout"
        }
      ]
    },
    {
      "cell_type": "code",
      "metadata": {
        "id": "SRk2DxHptzmE",
        "outputId": "8d6cc293-1b33-4bc3-ef6e-39c7293dab84",
        "colab": {
          "base_uri": "https://localhost:8080/",
          "height": 50
        }
      },
      "source": [
        "print(svm_clf.predict([preprocess_sample_point(\n",
        "    'Boring. Such a bad movie. It was terrible and predictable', vocabulary)]))\n",
        "\n",
        "print(svm_clf.predict([preprocess_sample_point(\n",
        "    'I really liked this movie, it\\'s great!', vocabulary)]))"
      ],
      "execution_count": 32,
      "outputs": [
        {
          "output_type": "stream",
          "text": [
            "[-1]\n",
            "[1]\n"
          ],
          "name": "stdout"
        }
      ]
    },
    {
      "cell_type": "markdown",
      "metadata": {
        "id": "z_9sFSUNKscM"
      },
      "source": [
        "## 5. Random Forests\n",
        "\n",
        "Random forests are a type of ensemble classifier, i.e. they are made up of a number of 'weak' learners where the final classification is a combination of the classifications of each learner. \n",
        "\n"
      ]
    },
    {
      "cell_type": "markdown",
      "metadata": {
        "id": "Myn-42J9ACsH"
      },
      "source": [
        "### Question 5.1 Creating a Random Forest Classifier\n",
        "Using `scikit-learn`, create a radom forest classifier for our review data.\n",
        "\n",
        "1. Use `scikit-learn` to create a random forest classifier (name it `rfc`)\n",
        "2. Fit the model to our training set\n",
        "3. Print training accuracy\n",
        "4. Print test accuracy\n",
        "\n",
        "\n",
        "\n",
        "Be sure to check the [documentation](http://scikit-learn.org/stable/modules/generated/sklearn.ensemble.RandomForestClassifier.html). Try to play around with the hyperparameters to see if you can get higher accuracy. Specifically, try finding good values for `n_estimators`, `min_samples_split`, `max_depth` and `max_features`. Try to get accuracies close to the SVM's!"
      ]
    },
    {
      "cell_type": "code",
      "metadata": {
        "id": "Ddm3xZiNZkXu",
        "outputId": "15f1b71b-4694-41d5-feb0-15cebc9de649",
        "colab": {
          "base_uri": "https://localhost:8080/",
          "height": 50
        }
      },
      "source": [
        "### Answer starts here ###\n",
        "#Fit model to training set\n",
        "rfc = RandomForestClassifier(n_estimators=100, max_depth=None, min_samples_split=2, random_state=0)\n",
        "rfc.fit(X_train_vect,y_train)\n",
        "\n",
        "# Print training accuracy\n",
        "print(\"Training Accuracy:\", rfc.score(X_train_vect,y_train))\n",
        "\n",
        "#Print Test accuracy\n",
        "print(\"Test Accuracy:\",rfc.score(X_test,y_test))\n",
        "### Answer ends here ###"
      ],
      "execution_count": 33,
      "outputs": [
        {
          "output_type": "stream",
          "text": [
            "Training Accuracy: 1.0\n",
            "Test Accuracy: 0.842873714948598\n"
          ],
          "name": "stdout"
        }
      ]
    },
    {
      "cell_type": "code",
      "metadata": {
        "id": "hPcnt6mI2g5e",
        "outputId": "5df4a617-3164-4a57-d100-bc1f9d126d61",
        "colab": {
          "base_uri": "https://localhost:8080/",
          "height": 50
        }
      },
      "source": [
        "print(rfc.predict([preprocess_sample_point(\n",
        "    'Boring. This movie is terrible', vocabulary)]))\n",
        "\n",
        "print(rfc.predict([preprocess_sample_point(\n",
        "    'This movie was pretty good', vocabulary)]))"
      ],
      "execution_count": 34,
      "outputs": [
        {
          "output_type": "stream",
          "text": [
            "[-1]\n",
            "[1]\n"
          ],
          "name": "stdout"
        }
      ]
    },
    {
      "cell_type": "markdown",
      "metadata": {
        "id": "1LAqa9be_3vR"
      },
      "source": [
        "### Question 5.2 Manual hyperparameter tuning\n",
        "\n",
        "Tell us about your hyperparamter tuning in a few sentences! What was your approach? Which paramters did you try changing? Were you able to improve your accuracies? (no right answer, just tell us what you experiemented with!)\n",
        "\n",
        "#############\n",
        "\n",
        "For the random forest hyperparameter testing I tried increasing the number of estimators which greatly increased the accuracy. The training accuracy is almost too high I'm afraid it's overfitting but the test accuracy is similar to\n",
        "that of the svm so I'm not sure!\n",
        "\n",
        "#############"
      ]
    },
    {
      "cell_type": "markdown",
      "metadata": {
        "id": "TP4D-1PjSVfA"
      },
      "source": [
        "## 6. [Optional] Tuning hyperparameters with GridSearchCV\n",
        "In this **optional** section, we will explore how to exhaustively tune the hyperparameters of a new classifier using `sklearn's` [GridSearchCV](https://scikit-learn.org/stable/modules/generated/sklearn.model_selection.GridSearchCV.html)."
      ]
    },
    {
      "cell_type": "markdown",
      "metadata": {
        "id": "C144CYOeYPca"
      },
      "source": [
        "### Question 6.1 Creating an Adaboost classifier\n",
        "In this section, we will be tuning the hyperparameters of an `adaboost` model. \n",
        "\n",
        "As its `sklearn` [documentation](https://scikit-learn.org/stable/modules/generated/sklearn.ensemble.AdaBoostClassifier.html) mentions, this classifier \"begins by fitting a classifier on the original dataset and then fits additional copies of the classifier on the same dataset but where the weights of incorrectly classified instances are adjusted such that subsequent classifiers focus more on difficult cases.\" \n",
        "\n",
        "For this question, simply create an instance of the classifer and name it `abc`."
      ]
    },
    {
      "cell_type": "code",
      "metadata": {
        "id": "rhuzkrzfZitf"
      },
      "source": [
        "### Answer starts here ###\n",
        "#@grader hello i started this section but have midterms to\n",
        "#do so it's imcomplete feel free to not grade it and ill\n",
        "#just take a look at the soln :)\n",
        "abc = AdaBoostClassifier()\n",
        "### Answer ends here ###"
      ],
      "execution_count": null,
      "outputs": []
    },
    {
      "cell_type": "markdown",
      "metadata": {
        "id": "rnIbpGe-Z52z"
      },
      "source": [
        "### Question 6.2 Finding the best parameters\n",
        "In order to use GridSearchCV, we need to provide it with a classifier (here, `abc`) and lists of different values for the hyperparameters we want to tune. GridSearchCV will run a fit using each possible parameter and get crossvalidation scores. \n",
        "\n",
        "For this question, use the GridSearchCV documentation to:\n",
        "1. Create a dict of parameters to tune with their respective list of values\n",
        "2. Create an instance of GridSearchCV with `abc` as the estimator and the following arguments: `cv=5, refit=False, verbose=3`\n",
        "3. Print the resulting scores and determine which parameters are best!\n"
      ]
    },
    {
      "cell_type": "code",
      "metadata": {
        "id": "1CZJsxsqa1bC"
      },
      "source": [
        "### Answer starts here ###\n",
        "hyperparams = {\n",
        "    \"n_estimators\" : [25,50]\n",
        "}\n",
        "\n",
        "search = GridSearchCV(abc, hyperparams, cv=5, refit=False, verbose=3)\n",
        "search.fit(X_train_vect,y_train)\n",
        "print(\"Best Paramters:\", search.get_params())\n",
        "### Answer ends here ###"
      ],
      "execution_count": null,
      "outputs": []
    },
    {
      "cell_type": "markdown",
      "metadata": {
        "id": "W6CdJGpjcK2r"
      },
      "source": [
        "### Question 6.3 Final result with best parameters\n",
        "Using the best parameters found in the previous question, reinstantiate an `adaboost` classifier, fit it to the train data, and print the the accuracy score on the test set. "
      ]
    },
    {
      "cell_type": "code",
      "metadata": {
        "id": "acx0uXvpeycS"
      },
      "source": [
        "### Answer starts here ####\n",
        "\n",
        "### Answer ends here ####"
      ],
      "execution_count": null,
      "outputs": []
    },
    {
      "cell_type": "markdown",
      "metadata": {
        "id": "aOsnRc2Q6ytj"
      },
      "source": [
        "## 7. Recap and conclusion\n",
        "Congratulations on reaching the end of Assignment 2! We hope you enjoyed it. \n",
        "\n",
        "Here's a recap of tasks and concepts explored in this assignment:\n",
        "\n",
        "\n",
        "1.   **Preprocessing**\n",
        "*   Cleaning train data: removing punctuation and HTML tags\n",
        "*   Basic feature engineering: vectorizing data, bag-of-words representation \n",
        "*   Using learned vocabulary to preprocess test data\n",
        "\n",
        "Preprocessing and data representation are very important in Natural Language Processing (NLP) projects. For more advanced preprocessing techniques, we highly recommend checking online the concepts of **stemming**, **n-gramming**, **stopwords removal**!\n",
        "\n",
        "2.   **Naive Bayes**\n",
        "*   Naive Bayes: recap of theory\n",
        "*   Implementing model from scratch\n",
        "\n",
        "Find out more about Naive Bayes implementations in `sklearn`: [GaussianNB](http://scikit-learn.org/stable/modules/generated/sklearn.naive_bayes.GaussianNB.html), [MultinomialNB](http://scikit-learn.org/stable/modules/generated/sklearn.naive_bayes.MultinomialNB.html), and more!\n",
        "\n",
        "3.   **Support Vector Machine**\n",
        "*   SVM: brief recap of theory and testing\n",
        "*   First introduction to `sklearn`: using already implemented models to classify data\n",
        "\n",
        "4.   **Random Forests**\n",
        "*   Random Forests: brief recap of theory and testing\n",
        "*   Introduction to hyperparameter tuning\n",
        "\n",
        "The default parameters are not always good enough! Find out more about how to tune hyperparameters in `sklearn` [here](https://scikit-learn.org/stable/modules/grid_search.html) or do the optional section 6 of this assignment. \n",
        "\n",
        "5.   **Tuning Adaboost with GridSearchCV**\n",
        "*   Adaboost: bried recap of theory and testing \n",
        "*   Tuning hyperparameters using GridSearchCV"
      ]
    },
    {
      "cell_type": "markdown",
      "metadata": {
        "id": "J7okgCQqFnxm"
      },
      "source": [
        "## 8. Submission\n",
        "\n",
        "To submit your work, please download as a .py file and upload it to its respective okpy assignment."
      ]
    }
  ]
}